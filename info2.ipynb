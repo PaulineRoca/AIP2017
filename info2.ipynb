{
 "cells": [
  {
   "cell_type": "markdown",
   "metadata": {},
   "source": [
    "# Level 0"
   ]
  },
  {
   "cell_type": "markdown",
   "metadata": {},
   "source": [
    "Write code that asks for your name and greets you, e.g. if your name is ‘Chris’, it should write ‘Hello Chris’ (use Python’s functions input* and print); then modify it so that if you type ‘Satanas’, it would print ‘Vade retro Satanas!’)"
   ]
  },
  {
   "cell_type": "code",
   "execution_count": 1,
   "metadata": {},
   "outputs": [
    {
     "name": "stdout",
     "output_type": "stream",
     "text": [
      "What's your name? Chris\n",
      "Hello Chris!\n"
     ]
    }
   ],
   "source": [
    "name = input(\"What's your name? \")\n",
    "if (name.upper() == 'SATANAS'):\n",
    "    print('Vade retro Satanas!')\n",
    "else:\n",
    "    print(\"Hello \" + name + \"!\")"
   ]
  },
  {
   "cell_type": "markdown",
   "metadata": {},
   "source": [
    "write code that asks the user to type some text, and when enter is pressed, prints the number of characters (hint: use the function len)"
   ]
  },
  {
   "cell_type": "code",
   "execution_count": 2,
   "metadata": {},
   "outputs": [
    {
     "name": "stdout",
     "output_type": "stream",
     "text": [
      "Chris\n",
      "5\n"
     ]
    }
   ],
   "source": [
    "text = input()\n",
    "print(len(text))"
   ]
  },
  {
   "cell_type": "markdown",
   "metadata": {},
   "source": [
    "write code that asks the user for a price and print the price with\n",
    "33% reduction. Try to find a way to print the new price with only\n",
    "to 2 decimal places"
   ]
  },
  {
   "cell_type": "code",
   "execution_count": 3,
   "metadata": {},
   "outputs": [
    {
     "name": "stdout",
     "output_type": "stream",
     "text": [
      "price? 45.99\n",
      "30.81\n"
     ]
    }
   ],
   "source": [
    "price = float(input('price? '))\n",
    "p = price * (1 - 0.33)\n",
    "print(int(p * 100) / 100)"
   ]
  },
  {
   "cell_type": "code",
   "execution_count": 4,
   "metadata": {},
   "outputs": [
    {
     "name": "stdout",
     "output_type": "stream",
     "text": [
      "price? 45.99\n",
      "30.81\n"
     ]
    }
   ],
   "source": [
    "price = float(input('price? '))\n",
    "print( round(price * (1 - 0.33), 2) )"
   ]
  },
  {
   "cell_type": "code",
   "execution_count": 5,
   "metadata": {},
   "outputs": [
    {
     "name": "stdout",
     "output_type": "stream",
     "text": [
      "The subject is 00000001   1     2\n"
     ]
    }
   ],
   "source": [
    "print(\"The subject is {0:08d} {0:3d} {1:5d}\".format(1, 2))"
   ]
  },
  {
   "cell_type": "markdown",
   "metadata": {},
   "source": [
    "Write code that computes your income tax, obeying the following\n",
    "rules:\n",
    "\n",
    "*  All taxpayers are charged a flat tax rate of 20%.\n",
    "*  All taxpayers are allowed a 10,000 standard deduction.\n",
    "*  For each dependent, a taxpayer is allowed an additional 2000 deduction."
   ]
  },
  {
   "cell_type": "code",
   "execution_count": 6,
   "metadata": {},
   "outputs": [
    {
     "name": "stdout",
     "output_type": "stream",
     "text": [
      "Your income? 100000\n",
      "Number of dependent? 3\n",
      "You have 24h to pay16800.0\n"
     ]
    }
   ],
   "source": [
    "revenu = int(input('Your income? '))\n",
    "n = int(input('Number of dependent? '))\n",
    "impot = (revenu - 10000 - n * 2000) * 0.20\n",
    "if impot <= 0:\n",
    "    print('Lucky you!')\n",
    "else:\n",
    "    print('You have 24h to pay' + str(impot))"
   ]
  },
  {
   "cell_type": "markdown",
   "metadata": {},
   "source": [
    "Write code that repeatedly asks for number and prints whether\n",
    "there are odd or even (the modulo operator is\n",
    "%\n",
    "). The loop should\n",
    "stop when the user enters ‘\n",
    "0\n",
    "’."
   ]
  },
  {
   "cell_type": "code",
   "execution_count": 7,
   "metadata": {},
   "outputs": [
    {
     "name": "stdout",
     "output_type": "stream",
     "text": [
      "? 3\n",
      "impair\n",
      "? 0\n",
      "pair\n"
     ]
    }
   ],
   "source": [
    "OK = True\n",
    "while OK:\n",
    "    num = int(input(\"? \"))\n",
    "    if num == 0:\n",
    "        OK = False\n",
    "    if (num % 2) == 0:\n",
    "        print('pair')\n",
    "    else:\n",
    "        print('impair')\n",
    "    \n",
    "\n",
    "            "
   ]
  },
  {
   "cell_type": "markdown",
   "metadata": {
    "collapsed": true
   },
   "source": [
    "Write code that computes the sum of the first 1000 integers (tip: use a `while` loop)."
   ]
  },
  {
   "cell_type": "code",
   "execution_count": null,
   "metadata": {},
   "outputs": [],
   "source": [
    "n = 1000\n",
    "print(n * (n + 1) / 2)"
   ]
  },
  {
   "cell_type": "code",
   "execution_count": null,
   "metadata": {},
   "outputs": [],
   "source": [
    "somme = 0\n",
    "i = 1\n",
    "while (i <= 1000):\n",
    "    somme = somme + i\n",
    "    i = i + 1\n",
    "print(somme)"
   ]
  },
  {
   "cell_type": "code",
   "execution_count": null,
   "metadata": {},
   "outputs": [],
   "source": [
    "somme = 0\n",
    "for i in range(1, 1001):\n",
    "    somme = somme + i\n",
    "print(somme)"
   ]
  },
  {
   "cell_type": "code",
   "execution_count": null,
   "metadata": {},
   "outputs": [],
   "source": [
    "sum(range(1001))"
   ]
  },
  {
   "cell_type": "markdown",
   "metadata": {},
   "source": [
    "The following program draws a triangle. Modify it to draw a square, then any regular polygon with 'n' sides.\n",
    "\n",
    "    ```{python}\n",
    "    import turtle\n",
    "\ttt = turtle.Turtle()\n",
    "\ttt.pendown()\n",
    "\ttt.forward(100)\n",
    "\ttt.left(120)\n",
    "\ttt.forward(100)\n",
    "\ttt.left(120)\n",
    "\ttt.forward(100)\n",
    "    ```"
   ]
  },
  {
   "cell_type": "code",
   "execution_count": null,
   "metadata": {},
   "outputs": [],
   "source": [
    "import turtle\n",
    "\n",
    "tt = turtle.Turtle()\n",
    "tt.pendown()\n",
    "\n",
    "n = 5\n",
    "angle = 360 / n\n",
    "for i in range(n + 1):\n",
    "    tt.forward(100)\n",
    "    tt.left(angle)\n",
    "\n",
    "\n"
   ]
  },
  {
   "cell_type": "markdown",
   "metadata": {},
   "source": [
    "Write code that prints the first elements of the Fibonnaci series (u(0)=0; u(1)=1; u(n+2)=u(n+1)+u(n)) which are lower than 1.000.000.000"
   ]
  },
  {
   "cell_type": "code",
   "execution_count": null,
   "metadata": {
    "scrolled": true
   },
   "outputs": [],
   "source": [
    "x, y = 0, 1\n",
    "while x < 1000000000:\n",
    "    y, x =  x + y, y\n",
    "    print(x)"
   ]
  },
  {
   "cell_type": "markdown",
   "metadata": {},
   "source": [
    "Write a program that estimates the number PI/4 by drawing pairs of random numbers between 0 and 1 (`x, y = random.random(), random.random()`)and computes how many of them represent points within the unit circle (`x**2 + y**2 <= 1`)."
   ]
  },
  {
   "cell_type": "code",
   "execution_count": null,
   "metadata": {},
   "outputs": [],
   "source": [
    "from random import random\n",
    "N=1000000\n",
    "4 * (sum([(random()**2 + random()**2)<1 for _ in range(N)])/N)"
   ]
  },
  {
   "cell_type": "markdown",
   "metadata": {},
   "source": [
    "Given a binary number represented as a string of 0s ans 1s (e.g. ‘101’), compute its value and print it."
   ]
  },
  {
   "cell_type": "code",
   "execution_count": null,
   "metadata": {},
   "outputs": [],
   "source": [
    "bin = '100000000'\n",
    "n = len(bin)\n",
    "pos = 0\n",
    "somme = 0\n",
    "while n > 0:\n",
    "    somme = somme + int(bin[pos])* (2 ** (n-1))\n",
    "    pos = pos + 1\n",
    "    n = n - 1\n",
    "print(somme)"
   ]
  },
  {
   "cell_type": "code",
   "execution_count": null,
   "metadata": {},
   "outputs": [],
   "source": [
    "bin = '1010'\n",
    "base = 2\n",
    "sum = 0\n",
    "for c in bin:\n",
    "    sum = sum * base + int(c)\n",
    "print(sum)\n"
   ]
  },
  {
   "cell_type": "markdown",
   "metadata": {},
   "source": [
    "Given an integer number, convert it into its binary representation, as a string of 0s and 1s."
   ]
  },
  {
   "cell_type": "code",
   "execution_count": null,
   "metadata": {},
   "outputs": [],
   "source": [
    "num = 10\n",
    "\n",
    "sortie = ''\n",
    "while num > 0:\n",
    "    sortie = str(num % 2) + sortie\n",
    "    num = num // 2\n",
    "\n",
    "print(sortie)\n"
   ]
  },
  {
   "cell_type": "markdown",
   "metadata": {},
   "source": [
    "# Level 1"
   ]
  },
  {
   "cell_type": "markdown",
   "metadata": {},
   "source": [
    "Write a function that, given `r`, returns the volume of a sphere of radius 'r' (which is equal to 4/3 pi r^3)."
   ]
  },
  {
   "cell_type": "code",
   "execution_count": null,
   "metadata": {
    "collapsed": true
   },
   "outputs": [],
   "source": [
    "from math import pi\n",
    "\n",
    "def volume_sphere(radius):\n",
    "    return (4 / 3) * pi * (radius ** 3)\n",
    "\n",
    "print(volume_sphere(1))"
   ]
  },
  {
   "cell_type": "markdown",
   "metadata": {},
   "source": [
    "Write a function that computes the factorial of an integer number (`factorial(n) = n(n-1)(n-2)...x 2 x 1`)"
   ]
  },
  {
   "cell_type": "code",
   "execution_count": 11,
   "metadata": {},
   "outputs": [
    {
     "name": "stdout",
     "output_type": "stream",
     "text": [
      "120\n",
      "120\n",
      "120\n",
      "120\n"
     ]
    }
   ],
   "source": [
    "def fact1(n):\n",
    "    f = 1\n",
    "    while n > 1:\n",
    "        f = f * n\n",
    "        n = n - 1\n",
    "    return f\n",
    "\n",
    "def fact2(n):\n",
    "    f = 1\n",
    "    for i in range(1, n + 1):\n",
    "        f = f * i\n",
    "    return f\n",
    "\n",
    "import math\n",
    "def fact3(n):\n",
    "    return math.factorial(n)\n",
    "\n",
    "def fact4(n):\n",
    "    if n == 0:\n",
    "        return 1\n",
    "    return n * fact4(n - 1)\n",
    "\n",
    "print(fact1(5))\n",
    "print(fact2(5))\n",
    "print(fact3(5))\n",
    "print(fact4(5))"
   ]
  },
  {
   "cell_type": "markdown",
   "metadata": {},
   "source": [
    " Write a program which draws von Koch fractal (https://en.wikipedia.org/wiki/Koch_snowflake)."
   ]
  },
  {
   "cell_type": "code",
   "execution_count": 23,
   "metadata": {},
   "outputs": [
    {
     "ename": "KeyboardInterrupt",
     "evalue": "",
     "output_type": "error",
     "traceback": [
      "\u001b[0;31m---------------------------------------------------------------------------\u001b[0m",
      "\u001b[0;31mKeyboardInterrupt\u001b[0m                         Traceback (most recent call last)",
      "\u001b[0;32m<ipython-input-23-3072398c2e5a>\u001b[0m in \u001b[0;36m<module>\u001b[0;34m()\u001b[0m\n\u001b[1;32m     19\u001b[0m \u001b[0mkoch\u001b[0m\u001b[0;34m(\u001b[0m\u001b[0;36m3\u001b[0m\u001b[0;34m,\u001b[0m \u001b[0;36m300\u001b[0m\u001b[0;34m)\u001b[0m\u001b[0;34m\u001b[0m\u001b[0m\n\u001b[1;32m     20\u001b[0m \u001b[0msleep\u001b[0m\u001b[0;34m(\u001b[0m\u001b[0;36m5\u001b[0m\u001b[0;34m)\u001b[0m\u001b[0;34m\u001b[0m\u001b[0m\n\u001b[0;32m---> 21\u001b[0;31m \u001b[0mturtle\u001b[0m\u001b[0;34m.\u001b[0m\u001b[0mdone\u001b[0m\u001b[0;34m(\u001b[0m\u001b[0;34m)\u001b[0m\u001b[0;34m\u001b[0m\u001b[0m\n\u001b[0m",
      "\u001b[0;32m/home/cp983411/anaconda3/lib/python3.6/turtle.py\u001b[0m in \u001b[0;36mmainloop\u001b[0;34m()\u001b[0m\n",
      "\u001b[0;32m/home/cp983411/anaconda3/lib/python3.6/turtle.py\u001b[0m in \u001b[0;36mmainloop\u001b[0;34m(self)\u001b[0m\n\u001b[1;32m    811\u001b[0m \u001b[0;34m\u001b[0m\u001b[0m\n\u001b[1;32m    812\u001b[0m         \"\"\"\n\u001b[0;32m--> 813\u001b[0;31m         \u001b[0mTK\u001b[0m\u001b[0;34m.\u001b[0m\u001b[0mmainloop\u001b[0m\u001b[0;34m(\u001b[0m\u001b[0;34m)\u001b[0m\u001b[0;34m\u001b[0m\u001b[0m\n\u001b[0m\u001b[1;32m    814\u001b[0m \u001b[0;34m\u001b[0m\u001b[0m\n\u001b[1;32m    815\u001b[0m     \u001b[0;32mdef\u001b[0m \u001b[0mtextinput\u001b[0m\u001b[0;34m(\u001b[0m\u001b[0mself\u001b[0m\u001b[0;34m,\u001b[0m \u001b[0mtitle\u001b[0m\u001b[0;34m,\u001b[0m \u001b[0mprompt\u001b[0m\u001b[0;34m)\u001b[0m\u001b[0;34m:\u001b[0m\u001b[0;34m\u001b[0m\u001b[0m\n",
      "\u001b[0;32m/home/cp983411/anaconda3/lib/python3.6/tkinter/__init__.py\u001b[0m in \u001b[0;36mmainloop\u001b[0;34m(n)\u001b[0m\n\u001b[1;32m    555\u001b[0m \u001b[0;32mdef\u001b[0m \u001b[0mmainloop\u001b[0m\u001b[0;34m(\u001b[0m\u001b[0mn\u001b[0m\u001b[0;34m=\u001b[0m\u001b[0;36m0\u001b[0m\u001b[0;34m)\u001b[0m\u001b[0;34m:\u001b[0m\u001b[0;34m\u001b[0m\u001b[0m\n\u001b[1;32m    556\u001b[0m     \u001b[0;34m\"\"\"Run the main loop of Tcl.\"\"\"\u001b[0m\u001b[0;34m\u001b[0m\u001b[0m\n\u001b[0;32m--> 557\u001b[0;31m     \u001b[0m_default_root\u001b[0m\u001b[0;34m.\u001b[0m\u001b[0mtk\u001b[0m\u001b[0;34m.\u001b[0m\u001b[0mmainloop\u001b[0m\u001b[0;34m(\u001b[0m\u001b[0mn\u001b[0m\u001b[0;34m)\u001b[0m\u001b[0;34m\u001b[0m\u001b[0m\n\u001b[0m\u001b[1;32m    558\u001b[0m \u001b[0;34m\u001b[0m\u001b[0m\n\u001b[1;32m    559\u001b[0m \u001b[0mgetint\u001b[0m \u001b[0;34m=\u001b[0m \u001b[0mint\u001b[0m\u001b[0;34m\u001b[0m\u001b[0m\n",
      "\u001b[0;31mKeyboardInterrupt\u001b[0m: "
     ]
    }
   ],
   "source": [
    "from time import sleep\n",
    "from turtle import clear, speed, forward, left, right\n",
    "\n",
    "def koch(n , length):\n",
    "    if n == 0:\n",
    "        forward(length)\n",
    "    else:\n",
    "        koch(n - 1, length / 3)\n",
    "        left(60)\n",
    "        koch(n - 1, length / 3)\n",
    "        right(120)\n",
    "        koch(n - 1, length / 3)\n",
    "        left(60)\n",
    "        koch(n - 1, length / 3)\n",
    "\n",
    "\n",
    "# speed(2)\n",
    "\n",
    "koch(3, 300)\n",
    "sleep(5)\n",
    "turtle.done()"
   ]
  },
  {
   "cell_type": "code",
   "execution_count": null,
   "metadata": {
    "collapsed": true
   },
   "outputs": [],
   "source": []
  }
 ],
 "metadata": {
  "anaconda-cloud": {},
  "kernelspec": {
   "display_name": "Python [conda root]",
   "language": "python",
   "name": "conda-root-py"
  },
  "language_info": {
   "codemirror_mode": {
    "name": "ipython",
    "version": 3
   },
   "file_extension": ".py",
   "mimetype": "text/x-python",
   "name": "python",
   "nbconvert_exporter": "python",
   "pygments_lexer": "ipython3",
   "version": "3.6.1"
  }
 },
 "nbformat": 4,
 "nbformat_minor": 2
}
