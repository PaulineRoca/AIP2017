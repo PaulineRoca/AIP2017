{
  "cells": [
    {
      "cell_type": "code",
      "execution_count": null,
      "metadata": {
        "collapsed": false
      },
      "outputs": [],
      "source": [
        "%matplotlib inline"
      ]
    },
    {
      "cell_type": "markdown",
      "metadata": {},
      "source": [
        " \nUn magasin propose des CD \u00e0 15\u20ac et des des DVD \u00e0 20\u20ac.\n\nPour tout achat d'au moins 4 CD,  il est consenti une r\u00e9duction de 20% sur les CD.\n\nPour l'achat d'au moins 3DVD, il est consenti une r\u00e9duction de 15% sur le DVD.\n\nConstruire un programme permettant d'obtenir le prix \u00e0 payer suivant le nombre n de CD et m de DVD achet\u00e9s\n\n"
      ]
    },
    {
      "cell_type": "code",
      "execution_count": null,
      "metadata": {
        "collapsed": false
      },
      "outputs": [],
      "source": [
        "PRIX_CD = 15  # en \u20ac\nPRIX_DVD = 20  # en \u20ac\n\n\nSEUIL_CD = 4\nRABAIT_CD = 20  # en %\nSEUIL_DVD = 3\nRABAIT_DVD = 15  # en %\n\nPRIX_CD_SOLDE = PRIX_CD * ((100 - RABAIT_CD)/100)\nPRIX_DVD_SOLDE = PRIX_DVD * ((100 - RABAIT_DVD)/100)\n\ndef prix(n_cd=0, n_dvd=0):\n    \"\"\" Calcule le prix total en fonction du nombre de CD et de DVD \"\"\"\n    if n_cd < SEUIL_CD:\n        prix_cd = n_cd * PRIX_CD\n    else:\n        prix_cd = n_cd * PRIX_CD_SOLDE\n    if n_dvd < SEUIL_DVD:\n        prix_dvd = n_dvd * PRIX_DVD\n    else:\n        prix_dvd = n_dvd * PRIX_DVD_SOLDE\n    return prix_cd + prix_dvd   # prix total\n\n\nif __name__ == '__main__':\n    print(prix(1, 1))\n    print(prix(2, 2))\n    print(prix(3, 1))\n    print(prix(4, 1))\n    print(prix(4, 2))\n    print(prix(4, 3))\n    print(prix(4, 4))\n    print(prix(n_cd=5))\n    print(prix(n_dvd=5))\n\n    for i in range(10):\n        for j in range(10):\n            print(\"cd={} dvd={} -> prix={}\u20ac\".format(i, j, prix(i, j)))"
      ]
    }
  ],
  "metadata": {
    "kernelspec": {
      "display_name": "Python 3",
      "language": "python",
      "name": "python3"
    },
    "language_info": {
      "codemirror_mode": {
        "name": "ipython",
        "version": 3
      },
      "file_extension": ".py",
      "mimetype": "text/x-python",
      "name": "python",
      "nbconvert_exporter": "python",
      "pygments_lexer": "ipython3",
      "version": "3.6.1"
    }
  },
  "nbformat": 4,
  "nbformat_minor": 0
}