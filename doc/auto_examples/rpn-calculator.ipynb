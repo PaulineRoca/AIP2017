{
  "cells": [
    {
      "cell_type": "code",
      "execution_count": null,
      "metadata": {
        "collapsed": false
      },
      "outputs": [],
      "source": [
        "%matplotlib inline"
      ]
    },
    {
      "cell_type": "markdown",
      "metadata": {},
      "source": [
        " \nImplement a simple Reverse Polish Notation Calculator.\n\nImplement a simple Reverse Polish Notation Calculator.\n\n"
      ]
    },
    {
      "cell_type": "code",
      "execution_count": null,
      "metadata": {
        "collapsed": false
      },
      "outputs": [],
      "source": [
        "import math\n\nstack = []\n\ndef isfloat(string):\n    \"\"\" check if string can be converted into a float; returns True or False \"\"\"\n    try:\n        float(string)\n        return True\n    except ValueError:\n        return False\n    \n\ndef rpn_eval(expr):\n    global stack\n    lexpr = expr.split()\n    for token in lexpr:\n        if isfloat(token):\n            stack.append(float(token))\n        elif token == 'pi':\n            stack.append(math.pi)\n        elif token == 'e':\n            stack.append(math.e)\n        elif token ==  '+':\n            val1 = stack.pop()\n            val2 = stack.pop()\n            stack.append(val1 + val2)\n        elif token ==  '-':\n            val1 = stack.pop()\n            val2 = stack.pop()\n            stack.append(val2 - val1)\n        elif token ==  '*':\n            val1 = stack.pop()\n            val2 = stack.pop()\n            stack.append(val1 * val2)\n        elif token ==  '/':\n            val1 = stack.pop()\n            val2 = stack.pop()\n            stack.append(val2 / val1)\n        elif token == '**':\n            val1 = stack.pop()\n            val2 = stack.pop()\n            stack.append(val1 ** val2)\n        elif token == '1/':\n            val1 = stack.pop()\n            stack.append(1 / val1)\n        elif token == 'sum':\n            stack = [sum(stack)]\n        elif token == 'clr':\n            stack = []\n        elif token == 'dup':\n            val = stack.pop()\n            stack.extend([val, val])\n        elif token == 'swap':\n            val1 = stack.pop()\n            val2 = stack.pop()\n            stack.extend([val1, val2])\n        else:\n            print(\"Unknown command : \" + token)\n\n\nwhile True:\n    expr = input('\\nEnter an expression in RPN (or just \"Enter\" to quit) > ')\n    if expr == '':\n        break\n    rpn_eval(expr)\n    for i in stack[::-1]:\n        print(i, end='\\n')"
      ]
    }
  ],
  "metadata": {
    "kernelspec": {
      "display_name": "Python 3",
      "language": "python",
      "name": "python3"
    },
    "language_info": {
      "codemirror_mode": {
        "name": "ipython",
        "version": 3
      },
      "file_extension": ".py",
      "mimetype": "text/x-python",
      "name": "python",
      "nbconvert_exporter": "python",
      "pygments_lexer": "ipython3",
      "version": "3.6.1"
    }
  },
  "nbformat": 4,
  "nbformat_minor": 0
}