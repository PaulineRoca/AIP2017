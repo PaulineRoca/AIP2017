{
  "cells": [
    {
      "cell_type": "code",
      "execution_count": null,
      "metadata": {
        "collapsed": false
      },
      "outputs": [],
      "source": [
        "%matplotlib inline"
      ]
    },
    {
      "cell_type": "markdown",
      "metadata": {},
      "source": [
        " \nDeux compagnies de taxis proposent des tarifs diff\u00e9rents:\n\n* Tarif A: prise en charge de 4.80\u20ac puis 1.15\u20ac par km parcouru\n* Tarif B: prise en charge de 3.20\u20ac puis 1.20\u20ac par km parcouru\n\nEcrire un programme permettant de d\u00e9cider quelle compagnie choisir en fonction du nombre de kms \u00e0 parcourir.\n\n"
      ]
    },
    {
      "cell_type": "code",
      "execution_count": null,
      "metadata": {
        "collapsed": false
      },
      "outputs": [],
      "source": [
        "def tarif_A(distance):\n    return 4.80 + (1.15 * distance)  \n\ndef tarif_B(distance):\n    return 3.20 + (1.20 * distance)  \n\n# affichage \nfor d in range(100):\n    print(\"{} -> tarifA = {}; tarifB = {}\".format(d, tarif_A(d), tarif_B(d)))\n\ndef choix(distance):\n    a = tarif_A(distance)\n    b = tarif_B(distance)\n    if a < b:\n        return (\"A\", a)\n    else:\n        return (\"B\", b)\n\n\nprint(10, choix(10))\nprint(40, choix(40))\nprint(100, choix(100))"
      ]
    }
  ],
  "metadata": {
    "kernelspec": {
      "display_name": "Python 3",
      "language": "python",
      "name": "python3"
    },
    "language_info": {
      "codemirror_mode": {
        "name": "ipython",
        "version": 3
      },
      "file_extension": ".py",
      "mimetype": "text/x-python",
      "name": "python",
      "nbconvert_exporter": "python",
      "pygments_lexer": "ipython3",
      "version": "3.6.1"
    }
  },
  "nbformat": 4,
  "nbformat_minor": 0
}