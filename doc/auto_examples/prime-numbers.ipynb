{
  "cells": [
    {
      "cell_type": "code",
      "execution_count": null,
      "metadata": {
        "collapsed": false
      },
      "outputs": [],
      "source": [
        "%matplotlib inline"
      ]
    },
    {
      "cell_type": "markdown",
      "metadata": {},
      "source": [
        " \nlist the prime numbers between 1 and 1000.\n\nlist the prime numbers between 1 and 1000.\n\n"
      ]
    },
    {
      "cell_type": "code",
      "execution_count": null,
      "metadata": {
        "collapsed": false
      },
      "outputs": [],
      "source": [
        "import math\n\n\ndef is_factor(a, b):\n    return b % a == 0\n\n\ndef methode_pedestre():\n    premiers = [1]\n    \n    for n in range(2, 1001):\n        prime = True\n        for i in range(2, n):\n            if is_factor(i , n):\n                prime = False\n                break\n        if prime:\n            premiers.append(n)\n\n    return premiers\n\nimport numpy\n\ndef crible_erathostene(max):\n    premiers = [True] * (max) \n    for i in range(2, int(math.sqrt(max)) + 1):\n        if premiers[i]:\n            for j in [(i**2 + p * i) for p in range(1, max//i)]:\n                if j >= max:\n                    break\n                premiers[j] = False       \n    return numpy.arange(max)[premiers]\n\n\nprint(crible_erathostene(100))"
      ]
    }
  ],
  "metadata": {
    "kernelspec": {
      "display_name": "Python 3",
      "language": "python",
      "name": "python3"
    },
    "language_info": {
      "codemirror_mode": {
        "name": "ipython",
        "version": 3
      },
      "file_extension": ".py",
      "mimetype": "text/x-python",
      "name": "python",
      "nbconvert_exporter": "python",
      "pygments_lexer": "ipython3",
      "version": "3.6.1"
    }
  },
  "nbformat": 4,
  "nbformat_minor": 0
}