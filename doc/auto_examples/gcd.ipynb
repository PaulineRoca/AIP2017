{
  "cells": [
    {
      "cell_type": "code",
      "execution_count": null,
      "metadata": {
        "collapsed": false
      },
      "outputs": [],
      "source": [
        "%matplotlib inline"
      ]
    },
    {
      "cell_type": "markdown",
      "metadata": {},
      "source": [
        "\nProvides functions to compute the greatest common divisor between two numbers.\n\nProvides functions to compute the greatest common divisor between two numbers.\n\n"
      ]
    },
    {
      "cell_type": "code",
      "execution_count": null,
      "metadata": {
        "collapsed": false
      },
      "outputs": [],
      "source": [
        "DEBUG = True\n\ndef gcd1(a, b):\n    if DEBUG: print(f\"GCD1: a={a} b={b}\")\n    if b == a:\n        return(a)\n    elif b > a:\n        return(gcd1(b, a))\n    return(gcd1(a - b, b))\n\n\ndef gcd2(a, b):  # correct a potential problem in version 1\n    if DEBUG: print(f\"GCD2: a={a} b={b}\")\n    assert isinstance(a, int)\n    assert isinstance(b, int)\n    assert a > 0\n    assert b > 0\n    return gcd1(a, b)\n\n\ndef gcd3(a, b):  # uses the modulo 'trick'\n    assert isinstance(a, int)\n    assert isinstance(b, int)\n    assert a > 0\n    assert b > 0\n    if DEBUG: print(f\"GCD3: a={a} b={b}\")\n\n    if a == 0:\n        return(b)\n    elif b > a:\n        return(gcd3(b, a))\n    c = a % b  # c is the remainder of the integer division of a by b\n    if c == 0:\n        return b\n    else:\n        return(gcd3(b, c))\n\ndef gcd4(a, b):  # non recursive version\n    assert isinstance(a, int)\n    assert isinstance(b, int)\n    assert a > 0\n    assert b > 0\n    if b > a:\n        a, b = b, a\n    while b != 0:\n        a, b = b, (a % b)\n        if DEBUG: print(f\"GCD4: a={a} b={b}\")\n    return a\n    \n\n# It is also possible to use a lambda:\ngcd5 = lambda a, b: a if not b else gcd5(b, a % b)\n\n\nif __name__ == '__main__':\n    a = 12\n    b = 16\n    print(\"gcd1({}, {}) = {}\".format(a, b, gcd1(a, b)))\n    print(\"gcd2({}, {}) = {}\".format(a, b, gcd2(a, b)))\n    print(\"gcd3({}, {}) = {}\".format(a, b, gcd3(a, b)))\n    print(\"gcd4({}, {}) = {}\".format(a, b, gcd4(a, b)))\n    print(\"gcd5({}, {}) = {}\".format(a, b, gcd5(a, b)))"
      ]
    }
  ],
  "metadata": {
    "kernelspec": {
      "display_name": "Python 3",
      "language": "python",
      "name": "python3"
    },
    "language_info": {
      "codemirror_mode": {
        "name": "ipython",
        "version": 3
      },
      "file_extension": ".py",
      "mimetype": "text/x-python",
      "name": "python",
      "nbconvert_exporter": "python",
      "pygments_lexer": "ipython3",
      "version": "3.6.1"
    }
  },
  "nbformat": 4,
  "nbformat_minor": 0
}