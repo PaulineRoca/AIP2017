{
 "cells": [
  {
   "cell_type": "markdown",
   "metadata": {},
   "source": [
    "# Level 0"
   ]
  },
  {
   "cell_type": "markdown",
   "metadata": {},
   "source": [
    "Write code that asks for your name and greets you, e.g. if your name is ‘Chris’, it should write ‘Hello Chris’ (use Python’s functions input* and print); then modify it so that if you type ‘Satanas’, it would print ‘Vade retro Satanas!’)"
   ]
  },
  {
   "cell_type": "code",
   "execution_count": 1,
   "metadata": {},
   "outputs": [
    {
     "name": "stdout",
     "output_type": "stream",
     "text": [
      "What's your name? Chris\n",
      "Hello Chris!\n"
     ]
    }
   ],
   "source": [
    "name = input(\"What's your name? \")\n",
    "if (name.upper() == 'SATANAS'):\n",
    "    print('Vade retro Satanas!')\n",
    "else:\n",
    "    print(\"Hello \" + name + \"!\")"
   ]
  },
  {
   "cell_type": "markdown",
   "metadata": {},
   "source": [
    "write code that asks the user to type some text, and when enter is pressed, prints the number of characters (hint: use the function len)"
   ]
  },
  {
   "cell_type": "code",
   "execution_count": 2,
   "metadata": {},
   "outputs": [
    {
     "name": "stdout",
     "output_type": "stream",
     "text": [
      "Chris\n",
      "5\n"
     ]
    }
   ],
   "source": [
    "text = input()\n",
    "print(len(text))"
   ]
  },
  {
   "cell_type": "markdown",
   "metadata": {},
   "source": [
    "write code that asks the user for a price and print the price with\n",
    "33% reduction. Try to find a way to print the new price with only\n",
    "to 2 decimal places"
   ]
  },
  {
   "cell_type": "code",
   "execution_count": 3,
   "metadata": {},
   "outputs": [
    {
     "name": "stdout",
     "output_type": "stream",
     "text": [
      "price? 45.99\n",
      "30.81\n"
     ]
    }
   ],
   "source": [
    "price = float(input('price? '))\n",
    "p = price * (1 - 0.33)\n",
    "print(int(p * 100) / 100)"
   ]
  },
  {
   "cell_type": "code",
   "execution_count": 4,
   "metadata": {},
   "outputs": [
    {
     "name": "stdout",
     "output_type": "stream",
     "text": [
      "price? 45.99\n",
      "30.81\n"
     ]
    }
   ],
   "source": [
    "price = float(input('price? '))\n",
    "print( round(price * (1 - 0.33), 2) )"
   ]
  },
  {
   "cell_type": "code",
   "execution_count": 5,
   "metadata": {},
   "outputs": [
    {
     "name": "stdout",
     "output_type": "stream",
     "text": [
      "The subject is 00000001   1     2\n"
     ]
    }
   ],
   "source": [
    "print(\"The subject is {0:08d} {0:3d} {1:5d}\".format(1, 2))"
   ]
  },
  {
   "cell_type": "markdown",
   "metadata": {},
   "source": [
    "Write code that computes your income tax, obeying the following\n",
    "rules:\n",
    "\n",
    "*  All taxpayers are charged a flat tax rate of 20%.\n",
    "*  All taxpayers are allowed a 10,000 standard deduction.\n",
    "*  For each dependent, a taxpayer is allowed an additional 2000 deduction."
   ]
  },
  {
   "cell_type": "code",
   "execution_count": 6,
   "metadata": {},
   "outputs": [
    {
     "name": "stdout",
     "output_type": "stream",
     "text": [
      "Your income? 100000\n",
      "Number of dependent? 3\n",
      "You have 24h to pay16800.0\n"
     ]
    }
   ],
   "source": [
    "revenu = int(input('Your income? '))\n",
    "n = int(input('Number of dependent? '))\n",
    "impot = (revenu - 10000 - n * 2000) * 0.20\n",
    "if impot <= 0:\n",
    "    print('Lucky you!')\n",
    "else:\n",
    "    print('You have 24h to pay' + str(impot))"
   ]
  },
  {
   "cell_type": "markdown",
   "metadata": {},
   "source": [
    "Write code that repeatedly asks for number and prints whether\n",
    "there are odd or even (the modulo operator is\n",
    "%\n",
    "). The loop should\n",
    "stop when the user enters ‘\n",
    "0\n",
    "’."
   ]
  },
  {
   "cell_type": "code",
   "execution_count": 7,
   "metadata": {},
   "outputs": [
    {
     "name": "stdout",
     "output_type": "stream",
     "text": [
      "? 3\n",
      "impair\n",
      "? 0\n",
      "pair\n"
     ]
    }
   ],
   "source": [
    "OK = True\n",
    "while OK:\n",
    "    num = int(input(\"? \"))\n",
    "    if num == 0:\n",
    "        OK = False\n",
    "    if (num % 2) == 0:\n",
    "        print('pair')\n",
    "    else:\n",
    "        print('impair')\n",
    "    \n",
    "\n",
    "            "
   ]
  },
  {
   "cell_type": "markdown",
   "metadata": {
    "collapsed": true
   },
   "source": [
    "Write code that computes the sum of the first 1000 integers (tip: use a `while` loop)."
   ]
  },
  {
   "cell_type": "code",
   "execution_count": null,
   "metadata": {
    "collapsed": true
   },
   "outputs": [],
   "source": [
    "n = 1000\n",
    "print(n * (n + 1) / 2)"
   ]
  },
  {
   "cell_type": "code",
   "execution_count": null,
   "metadata": {
    "collapsed": true
   },
   "outputs": [],
   "source": [
    "somme = 0\n",
    "i = 1\n",
    "while (i <= 1000):\n",
    "    somme = somme + i\n",
    "    i = i + 1\n",
    "print(somme)"
   ]
  },
  {
   "cell_type": "code",
   "execution_count": null,
   "metadata": {
    "collapsed": true
   },
   "outputs": [],
   "source": [
    "somme = 0\n",
    "for i in range(1, 1001):\n",
    "    somme = somme + i\n",
    "print(somme)"
   ]
  },
  {
   "cell_type": "code",
   "execution_count": null,
   "metadata": {
    "collapsed": true
   },
   "outputs": [],
   "source": [
    "sum(range(1001))"
   ]
  },
  {
   "cell_type": "markdown",
   "metadata": {},
   "source": [
    "The following program draws a triangle. Modify it to draw a square, then any regular polygon with 'n' sides.\n",
    "\n",
    "    ```{python}\n",
    "    import turtle\n",
    "\ttt = turtle.Turtle()\n",
    "\ttt.pendown()\n",
    "\ttt.forward(100)\n",
    "\ttt.left(120)\n",
    "\ttt.forward(100)\n",
    "\ttt.left(120)\n",
    "\ttt.forward(100)\n",
    "    ```"
   ]
  },
  {
   "cell_type": "code",
   "execution_count": null,
   "metadata": {
    "collapsed": true
   },
   "outputs": [],
   "source": [
    "import turtle\n",
    "\n",
    "tt = turtle.Turtle()\n",
    "tt.pendown()\n",
    "\n",
    "n = 5\n",
    "angle = 360 / n\n",
    "for i in range(n + 1):\n",
    "    tt.forward(100)\n",
    "    tt.left(angle)\n",
    "\n",
    "\n"
   ]
  },
  {
   "cell_type": "markdown",
   "metadata": {},
   "source": [
    "Write code that prints the first elements of the Fibonnaci series (u(0)=0; u(1)=1; u(n+2)=u(n+1)+u(n)) which are lower than 1.000.000.000"
   ]
  },
  {
   "cell_type": "code",
   "execution_count": null,
   "metadata": {
    "collapsed": true,
    "scrolled": true
   },
   "outputs": [],
   "source": [
    "x, y = 0, 1\n",
    "while x < 1000000000:\n",
    "    y, x =  x + y, y\n",
    "    print(x)"
   ]
  },
  {
   "cell_type": "markdown",
   "metadata": {},
   "source": [
    "Write a program that estimates the number PI/4 by drawing pairs of random numbers between 0 and 1 (`x, y = random.random(), random.random()`)and computes how many of them represent points within the unit circle (`x**2 + y**2 <= 1`)."
   ]
  },
  {
   "cell_type": "code",
   "execution_count": null,
   "metadata": {
    "collapsed": true
   },
   "outputs": [],
   "source": [
    "from random import random\n",
    "N=1000000\n",
    "4 * (sum([(random()**2 + random()**2)<1 for _ in range(N)])/N)"
   ]
  },
  {
   "cell_type": "markdown",
   "metadata": {},
   "source": [
    "Given a binary number represented as a string of 0s ans 1s (e.g. ‘101’), compute its value and print it."
   ]
  },
  {
   "cell_type": "code",
   "execution_count": null,
   "metadata": {
    "collapsed": true
   },
   "outputs": [],
   "source": [
    "bin = '100000000'\n",
    "n = len(bin)\n",
    "pos = 0\n",
    "somme = 0\n",
    "while n > 0:\n",
    "    somme = somme + int(bin[pos])* (2 ** (n-1))\n",
    "    pos = pos + 1\n",
    "    n = n - 1\n",
    "print(somme)"
   ]
  },
  {
   "cell_type": "code",
   "execution_count": null,
   "metadata": {
    "collapsed": true
   },
   "outputs": [],
   "source": [
    "bin = '1010'\n",
    "base = 2\n",
    "sum = 0\n",
    "for c in bin:\n",
    "    sum = sum * base + int(c)\n",
    "print(sum)\n"
   ]
  },
  {
   "cell_type": "markdown",
   "metadata": {},
   "source": [
    "Given an integer number, convert it into its binary representation, as a string of 0s and 1s."
   ]
  },
  {
   "cell_type": "code",
   "execution_count": null,
   "metadata": {
    "collapsed": true
   },
   "outputs": [],
   "source": [
    "num = 10\n",
    "\n",
    "sortie = ''\n",
    "while num > 0:\n",
    "    sortie = str(num % 2) + sortie\n",
    "    num = num // 2\n",
    "\n",
    "print(sortie)\n"
   ]
  },
  {
   "cell_type": "markdown",
   "metadata": {},
   "source": [
    "# Level 1"
   ]
  },
  {
   "cell_type": "markdown",
   "metadata": {},
   "source": [
    "Write a function that, given `r`, returns the volume of a sphere of radius 'r' (which is equal to 4/3 pi r^3)."
   ]
  },
  {
   "cell_type": "code",
   "execution_count": null,
   "metadata": {
    "collapsed": true
   },
   "outputs": [],
   "source": [
    "from math import pi\n",
    "\n",
    "def volume_sphere(radius):\n",
    "    return (4 / 3) * pi * (radius ** 3)\n",
    "\n",
    "print(volume_sphere(1))"
   ]
  },
  {
   "cell_type": "markdown",
   "metadata": {},
   "source": [
    "Write a function that computes the factorial of an integer number (`factorial(n) = n(n-1)(n-2)...x 2 x 1`)"
   ]
  },
  {
   "cell_type": "code",
   "execution_count": 11,
   "metadata": {},
   "outputs": [
    {
     "name": "stdout",
     "output_type": "stream",
     "text": [
      "120\n",
      "120\n",
      "120\n",
      "120\n"
     ]
    }
   ],
   "source": [
    "def fact1(n):\n",
    "    f = 1\n",
    "    while n > 1:\n",
    "        f = f * n\n",
    "        n = n - 1\n",
    "    return f\n",
    "\n",
    "def fact2(n):\n",
    "    f = 1\n",
    "    for i in range(1, n + 1):\n",
    "        f = f * i\n",
    "    return f\n",
    "\n",
    "import math\n",
    "def fact3(n):\n",
    "    return math.factorial(n)\n",
    "\n",
    "def fact4(n):\n",
    "    if n == 0:\n",
    "        return 1\n",
    "    return n * fact4(n - 1)\n",
    "\n",
    "print(fact1(5))\n",
    "print(fact2(5))\n",
    "print(fact3(5))\n",
    "print(fact4(5))"
   ]
  },
  {
   "cell_type": "markdown",
   "metadata": {},
   "source": [
    " Write a program which draws von Koch fractal (https://en.wikipedia.org/wiki/Koch_snowflake)."
   ]
  },
  {
   "cell_type": "code",
   "execution_count": null,
   "metadata": {
    "collapsed": true
   },
   "outputs": [],
   "source": [
    "from time import sleep\n",
    "from turtle import clear, speed, forward, left, right\n",
    "\n",
    "def koch(n , length):\n",
    "    if n == 0:\n",
    "        forward(length)\n",
    "    else:\n",
    "        koch(n - 1, length / 3)\n",
    "        left(60)\n",
    "        koch(n - 1, length / 3)\n",
    "        right(120)\n",
    "        koch(n - 1, length / 3)\n",
    "        left(60)\n",
    "        koch(n - 1, length / 3)\n",
    "\n",
    "\n",
    "# speed(2)\n",
    "\n",
    "koch(3, 300)\n",
    "sleep(5)\n",
    "turtle.done()"
   ]
  },
  {
   "cell_type": "markdown",
   "metadata": {},
   "source": [
    "Compute the sum of the elements in a list"
   ]
  },
  {
   "cell_type": "code",
   "execution_count": 7,
   "metadata": {},
   "outputs": [
    {
     "name": "stdout",
     "output_type": "stream",
     "text": [
      "45\n",
      "45\n"
     ]
    },
    {
     "data": {
      "text/plain": [
       "[(0, 1), (1, 4), (2, 10), (3, 34), (4, 2), (5, -6)]"
      ]
     },
     "execution_count": 7,
     "metadata": {},
     "output_type": "execute_result"
    }
   ],
   "source": [
    "liste = [1, 4, 10, 34, 2, -6]\n",
    "\n",
    "# solution 1 (non pythonic)\n",
    "somme = 0\n",
    "for indice in range(len(liste)):\n",
    "    somme = somme + liste[indice]\n",
    "print(somme)\n",
    "\n",
    "# niceway\n",
    "somme = 0\n",
    "for element in liste:\n",
    "    somme = somme + element\n",
    "print(somme)\n"
   ]
  },
  {
   "cell_type": "markdown",
   "metadata": {},
   "source": [
    "Given two lists, return a new list which contains the sums of elements in these lists"
   ]
  },
  {
   "cell_type": "code",
   "execution_count": 1,
   "metadata": {},
   "outputs": [
    {
     "name": "stdout",
     "output_type": "stream",
     "text": [
      "[9, 7, 5]\n"
     ]
    }
   ],
   "source": [
    "liste1 = [3, 4, 5]\n",
    "liste2 = [6, 3, 0]\n",
    "\n",
    "somme = []\n",
    "for x, y in zip(liste1, liste2):\n",
    "    somme.append(x + y)\n",
    "    \n",
    "print(somme)"
   ]
  },
  {
   "cell_type": "code",
   "execution_count": null,
   "metadata": {
    "collapsed": true
   },
   "outputs": [],
   "source": [
    "Note that `zip` \"unites\" the two lists as list of couples"
   ]
  },
  {
   "cell_type": "code",
   "execution_count": 2,
   "metadata": {},
   "outputs": [
    {
     "data": {
      "text/plain": [
       "[(3, 6), (4, 3), (5, 0)]"
      ]
     },
     "execution_count": 2,
     "metadata": {},
     "output_type": "execute_result"
    }
   ],
   "source": [
    "list(zip(liste1, liste2))"
   ]
  },
  {
   "cell_type": "markdown",
   "metadata": {},
   "source": [
    "Un magasin propose des CD à 15€ et des des DVD à 20€. Pour tout achat d'au moins 4 CD,  il est consenti une réduction de 20% sur les CD. Pour l'achat d'au moins 3DVD, il est consenti une réduction de 15% sur le DVD. Construire un programme permettant d'obtenir le prix à payer suivant le nombre n de CD et m de DVD achetés.\"\n"
   ]
  },
  {
   "cell_type": "code",
   "execution_count": 3,
   "metadata": {},
   "outputs": [
    {
     "name": "stdout",
     "output_type": "stream",
     "text": [
      "35\n",
      "70\n",
      "65\n",
      "68.0\n",
      "88.0\n",
      "99.0\n",
      "116.0\n",
      "60.0\n",
      "85.0\n",
      "cd=0 dvd=0 -> prix=0€\n",
      "cd=0 dvd=1 -> prix=20€\n",
      "cd=0 dvd=2 -> prix=40€\n",
      "cd=0 dvd=3 -> prix=51.0€\n",
      "cd=0 dvd=4 -> prix=68.0€\n",
      "cd=0 dvd=5 -> prix=85.0€\n",
      "cd=0 dvd=6 -> prix=102.0€\n",
      "cd=0 dvd=7 -> prix=119.0€\n",
      "cd=0 dvd=8 -> prix=136.0€\n",
      "cd=0 dvd=9 -> prix=153.0€\n",
      "cd=1 dvd=0 -> prix=15€\n",
      "cd=1 dvd=1 -> prix=35€\n",
      "cd=1 dvd=2 -> prix=55€\n",
      "cd=1 dvd=3 -> prix=66.0€\n",
      "cd=1 dvd=4 -> prix=83.0€\n",
      "cd=1 dvd=5 -> prix=100.0€\n",
      "cd=1 dvd=6 -> prix=117.0€\n",
      "cd=1 dvd=7 -> prix=134.0€\n",
      "cd=1 dvd=8 -> prix=151.0€\n",
      "cd=1 dvd=9 -> prix=168.0€\n",
      "cd=2 dvd=0 -> prix=30€\n",
      "cd=2 dvd=1 -> prix=50€\n",
      "cd=2 dvd=2 -> prix=70€\n",
      "cd=2 dvd=3 -> prix=81.0€\n",
      "cd=2 dvd=4 -> prix=98.0€\n",
      "cd=2 dvd=5 -> prix=115.0€\n",
      "cd=2 dvd=6 -> prix=132.0€\n",
      "cd=2 dvd=7 -> prix=149.0€\n",
      "cd=2 dvd=8 -> prix=166.0€\n",
      "cd=2 dvd=9 -> prix=183.0€\n",
      "cd=3 dvd=0 -> prix=45€\n",
      "cd=3 dvd=1 -> prix=65€\n",
      "cd=3 dvd=2 -> prix=85€\n",
      "cd=3 dvd=3 -> prix=96.0€\n",
      "cd=3 dvd=4 -> prix=113.0€\n",
      "cd=3 dvd=5 -> prix=130.0€\n",
      "cd=3 dvd=6 -> prix=147.0€\n",
      "cd=3 dvd=7 -> prix=164.0€\n",
      "cd=3 dvd=8 -> prix=181.0€\n",
      "cd=3 dvd=9 -> prix=198.0€\n",
      "cd=4 dvd=0 -> prix=48.0€\n",
      "cd=4 dvd=1 -> prix=68.0€\n",
      "cd=4 dvd=2 -> prix=88.0€\n",
      "cd=4 dvd=3 -> prix=99.0€\n",
      "cd=4 dvd=4 -> prix=116.0€\n",
      "cd=4 dvd=5 -> prix=133.0€\n",
      "cd=4 dvd=6 -> prix=150.0€\n",
      "cd=4 dvd=7 -> prix=167.0€\n",
      "cd=4 dvd=8 -> prix=184.0€\n",
      "cd=4 dvd=9 -> prix=201.0€\n",
      "cd=5 dvd=0 -> prix=60.0€\n",
      "cd=5 dvd=1 -> prix=80.0€\n",
      "cd=5 dvd=2 -> prix=100.0€\n",
      "cd=5 dvd=3 -> prix=111.0€\n",
      "cd=5 dvd=4 -> prix=128.0€\n",
      "cd=5 dvd=5 -> prix=145.0€\n",
      "cd=5 dvd=6 -> prix=162.0€\n",
      "cd=5 dvd=7 -> prix=179.0€\n",
      "cd=5 dvd=8 -> prix=196.0€\n",
      "cd=5 dvd=9 -> prix=213.0€\n",
      "cd=6 dvd=0 -> prix=72.0€\n",
      "cd=6 dvd=1 -> prix=92.0€\n",
      "cd=6 dvd=2 -> prix=112.0€\n",
      "cd=6 dvd=3 -> prix=123.0€\n",
      "cd=6 dvd=4 -> prix=140.0€\n",
      "cd=6 dvd=5 -> prix=157.0€\n",
      "cd=6 dvd=6 -> prix=174.0€\n",
      "cd=6 dvd=7 -> prix=191.0€\n",
      "cd=6 dvd=8 -> prix=208.0€\n",
      "cd=6 dvd=9 -> prix=225.0€\n",
      "cd=7 dvd=0 -> prix=84.0€\n",
      "cd=7 dvd=1 -> prix=104.0€\n",
      "cd=7 dvd=2 -> prix=124.0€\n",
      "cd=7 dvd=3 -> prix=135.0€\n",
      "cd=7 dvd=4 -> prix=152.0€\n",
      "cd=7 dvd=5 -> prix=169.0€\n",
      "cd=7 dvd=6 -> prix=186.0€\n",
      "cd=7 dvd=7 -> prix=203.0€\n",
      "cd=7 dvd=8 -> prix=220.0€\n",
      "cd=7 dvd=9 -> prix=237.0€\n",
      "cd=8 dvd=0 -> prix=96.0€\n",
      "cd=8 dvd=1 -> prix=116.0€\n",
      "cd=8 dvd=2 -> prix=136.0€\n",
      "cd=8 dvd=3 -> prix=147.0€\n",
      "cd=8 dvd=4 -> prix=164.0€\n",
      "cd=8 dvd=5 -> prix=181.0€\n",
      "cd=8 dvd=6 -> prix=198.0€\n",
      "cd=8 dvd=7 -> prix=215.0€\n",
      "cd=8 dvd=8 -> prix=232.0€\n",
      "cd=8 dvd=9 -> prix=249.0€\n",
      "cd=9 dvd=0 -> prix=108.0€\n",
      "cd=9 dvd=1 -> prix=128.0€\n",
      "cd=9 dvd=2 -> prix=148.0€\n",
      "cd=9 dvd=3 -> prix=159.0€\n",
      "cd=9 dvd=4 -> prix=176.0€\n",
      "cd=9 dvd=5 -> prix=193.0€\n",
      "cd=9 dvd=6 -> prix=210.0€\n",
      "cd=9 dvd=7 -> prix=227.0€\n",
      "cd=9 dvd=8 -> prix=244.0€\n",
      "cd=9 dvd=9 -> prix=261.0€\n"
     ]
    }
   ],
   "source": [
    "PRIX_CD = 15  # en €\n",
    "PRIX_DVD = 20  # en €\n",
    "\n",
    "\n",
    "SEUIL_CD = 4\n",
    "RABAIT_CD = 20  # en %\n",
    "SEUIL_DVD = 3\n",
    "RABAIT_DVD = 15  # en %\n",
    "\n",
    "PRIX_CD_SOLDE = PRIX_CD * ((100 - RABAIT_CD)/100)\n",
    "PRIX_DVD_SOLDE = PRIX_DVD * ((100 - RABAIT_DVD)/100)\n",
    "\n",
    "def prix(n_cd=0, n_dvd=0):\n",
    "    \"\"\" Calcule le prix total en fonction du nombre de CD et de DVD \"\"\"\n",
    "    if n_cd < SEUIL_CD:\n",
    "        prix_cd = n_cd * PRIX_CD\n",
    "    else:\n",
    "        prix_cd = n_cd * PRIX_CD_SOLDE\n",
    "    if n_dvd < SEUIL_DVD:\n",
    "        prix_dvd = n_dvd * PRIX_DVD\n",
    "    else:\n",
    "        prix_dvd = n_dvd * PRIX_DVD_SOLDE\n",
    "    return prix_cd + prix_dvd   # prix total\n",
    "\n",
    "\n",
    "print(prix(1, 1))\n",
    "print(prix(2, 2))\n",
    "print(prix(3, 1))\n",
    "print(prix(4, 1))\n",
    "print(prix(4, 2))\n",
    "print(prix(4, 3))\n",
    "print(prix(4, 4))\n",
    "print(prix(n_cd=5))\n",
    "print(prix(n_dvd=5))\n",
    "\n",
    "for i in range(10):\n",
    "    for j in range(10):\n",
    "        print(\"cd={} dvd={} -> prix={}€\".format(i, j, prix(i, j)))\n"
   ]
  },
  {
   "cell_type": "markdown",
   "metadata": {},
   "source": [
    "Write a program to compute the greatest common divisor (GCD) of two numbers.\n"
   ]
  },
  {
   "cell_type": "code",
   "execution_count": 4,
   "metadata": {},
   "outputs": [
    {
     "name": "stdout",
     "output_type": "stream",
     "text": [
      "GCD1: a=12 b=16\n",
      "GCD1: a=16 b=12\n",
      "GCD1: a=4 b=12\n",
      "GCD1: a=12 b=4\n",
      "GCD1: a=8 b=4\n",
      "GCD1: a=4 b=4\n",
      "gcd1(12, 16) = 4\n",
      "GCD2: a=12 b=16\n",
      "GCD1: a=12 b=16\n",
      "GCD1: a=16 b=12\n",
      "GCD1: a=4 b=12\n",
      "GCD1: a=12 b=4\n",
      "GCD1: a=8 b=4\n",
      "GCD1: a=4 b=4\n",
      "gcd2(12, 16) = 4\n",
      "GCD3: a=12 b=16\n",
      "GCD3: a=16 b=12\n",
      "GCD3: a=12 b=4\n",
      "gcd3(12, 16) = 4\n",
      "GCD4: a=12 b=4\n",
      "GCD4: a=4 b=0\n",
      "gcd4(12, 16) = 4\n",
      "gcd5(12, 16) = 4\n"
     ]
    }
   ],
   "source": [
    "\"\"\" Several functions that compute the GCD\"\"\"\n",
    "\n",
    "DEBUG = True  # to print the trace of execution\n",
    "\n",
    "def gcd1(a, b):\n",
    "    if DEBUG: print(f\"GCD1: a={a} b={b}\")\n",
    "    if b == a:\n",
    "        return(a)\n",
    "    elif b > a:\n",
    "        return(gcd1(b, a))\n",
    "    return(gcd1(a - b, b))\n",
    "\n",
    "\n",
    "def gcd2(a, b):  # correct a potential problem in version 1\n",
    "    if DEBUG: print(f\"GCD2: a={a} b={b}\")\n",
    "    assert isinstance(a, int)\n",
    "    assert isinstance(b, int)\n",
    "    assert a > 0\n",
    "    assert b > 0\n",
    "    return gcd1(a, b)\n",
    "\n",
    "\n",
    "def gcd3(a, b):  # uses the modulo 'trick'\n",
    "    assert isinstance(a, int)\n",
    "    assert isinstance(b, int)\n",
    "    assert a > 0\n",
    "    assert b > 0\n",
    "    if DEBUG: print(f\"GCD3: a={a} b={b}\")\n",
    "\n",
    "    if a == 0:\n",
    "        return(b)\n",
    "    elif b > a:\n",
    "        return(gcd3(b, a))\n",
    "    c = a % b  # c is the remainder of the integer division of a by b\n",
    "    if c == 0:\n",
    "        return b\n",
    "    else:\n",
    "        return(gcd3(b, c))\n",
    "\n",
    "def gcd4(a, b):  # non recursive version\n",
    "    assert isinstance(a, int)\n",
    "    assert isinstance(b, int)\n",
    "    assert a > 0\n",
    "    assert b > 0\n",
    "    if b > a:\n",
    "        a, b = b, a\n",
    "    while b != 0:\n",
    "        a, b = b, (a % b)\n",
    "        if DEBUG: print(f\"GCD4: a={a} b={b}\")\n",
    "    return a\n",
    "    \n",
    "\n",
    "# It is also possible to use a lambda:\n",
    "gcd5 = lambda a, b: a if not b else gcd5(b, a % b)\n",
    "\n",
    "\n",
    "a = 12\n",
    "b = 16\n",
    "print(\"gcd1({}, {}) = {}\".format(a, b, gcd1(a, b)))\n",
    "print(\"gcd2({}, {}) = {}\".format(a, b, gcd2(a, b)))\n",
    "print(\"gcd3({}, {}) = {}\".format(a, b, gcd3(a, b)))\n",
    "print(\"gcd4({}, {}) = {}\".format(a, b, gcd4(a, b)))\n",
    "print(\"gcd5({}, {}) = {}\".format(a, b, gcd5(a, b)))\n"
   ]
  },
  {
   "cell_type": "markdown",
   "metadata": {},
   "source": [
    "# Level 2"
   ]
  },
  {
   "cell_type": "markdown",
   "metadata": {},
   "source": [
    "Write code, that asks the user for a text, and then prints in reverse (e.g. inputting 'Hello' should produce 'olleH')."
   ]
  },
  {
   "cell_type": "code",
   "execution_count": 5,
   "metadata": {},
   "outputs": [
    {
     "name": "stdout",
     "output_type": "stream",
     "text": [
      "bonjour\n",
      "ruojnob\n"
     ]
    }
   ],
   "source": [
    "a = input()\n",
    "print(a[::-1])"
   ]
  },
  {
   "cell_type": "markdown",
   "metadata": {},
   "source": [
    "Two taxi companies propose differents pricing schemes: \"Tarif A: prise en charge de 4.80€ puis 1.15€ par km parcouru. Tarif B: prise en charge de 3.20€ puis 1.20€ par km parcouru.\" Ecrire un programme permettant de décider quelle compagnie choisir en fonction du nombre de kms à parcourir.\n"
   ]
  },
  {
   "cell_type": "markdown",
   "metadata": {},
   "source": [
    "def tarif_A(distance):\n",
    "    return 4.80 + (1.15 * distance)  \n",
    "\n",
    "def tarif_B(distance):\n",
    "    return 3.20 + (1.20 * distance)  \n",
    "\n",
    "# affichage \n",
    "for d in range(100):\n",
    "    print(\"{} -> tarifA = {}; tarifB = {}\".format(d, tarif_A(d), tarif_B(d)))\n",
    "\n",
    "def choix(distance):\n",
    "    a = tarif_A(distance)\n",
    "    b = tarif_B(distance)\n",
    "    if a < b:\n",
    "        return (\"A\", a)\n",
    "    else:\n",
    "        return (\"B\", b)\n",
    "\n",
    "\n",
    "print(10, choix(10))\n",
    "print(40, choix(40))\n",
    "print(100, choix(100))\n"
   ]
  },
  {
   "cell_type": "markdown",
   "metadata": {},
   "source": [
    "Given the function:\n",
    "\n",
    "   def is_factor(a, b):\n",
    "\t   return b % a == 0\n",
    "\n",
    "Write a program that lists the prime numbers between 1 and 100.\n"
   ]
  },
  {
   "cell_type": "code",
   "execution_count": 7,
   "metadata": {},
   "outputs": [
    {
     "data": {
      "text/plain": [
       "[1,\n",
       " 2,\n",
       " 3,\n",
       " 5,\n",
       " 7,\n",
       " 11,\n",
       " 13,\n",
       " 17,\n",
       " 19,\n",
       " 23,\n",
       " 29,\n",
       " 31,\n",
       " 37,\n",
       " 41,\n",
       " 43,\n",
       " 47,\n",
       " 53,\n",
       " 59,\n",
       " 61,\n",
       " 67,\n",
       " 71,\n",
       " 73,\n",
       " 79,\n",
       " 83,\n",
       " 89,\n",
       " 97]"
      ]
     },
     "execution_count": 7,
     "metadata": {},
     "output_type": "execute_result"
    }
   ],
   "source": [
    "def is_factor(a, b):\n",
    "    return b % a == 0\n",
    "\n",
    "\n",
    "def methode_pedestre(n):\n",
    "    premiers = [1]\n",
    "    \n",
    "    for n in range(2, n + 1):\n",
    "        prime = True\n",
    "        for i in range(2, n):\n",
    "            if is_factor(i , n):\n",
    "                prime = False\n",
    "                break\n",
    "        if prime:\n",
    "            premiers.append(n)\n",
    "\n",
    "    return premiers\n",
    "\n",
    "\n",
    "methode_pedestre(100)"
   ]
  },
  {
   "cell_type": "markdown",
   "metadata": {},
   "source": [
    "Write a program that determines  prime numbers between 1 and 1000 using the Sieve of Eratoshenes https://en.wikipedia.org/wiki/Sieve_of_Eratosthenes\n"
   ]
  },
  {
   "cell_type": "code",
   "execution_count": 9,
   "metadata": {},
   "outputs": [
    {
     "name": "stdout",
     "output_type": "stream",
     "text": [
      "[ 0  1  2  3  4  5  7  9 11 13 17 19 23 25 29 31 37 41 43 47 49 53 59 61 67\n",
      " 71 73 79 83 89 97]\n"
     ]
    }
   ],
   "source": [
    "import math\n",
    "import numpy\n",
    "\n",
    "def crible_erathostene(max):\n",
    "    premiers = [True] * (max) \n",
    "    for i in range(2, int(math.sqrt(max)) + 1):\n",
    "        if premiers[i]:\n",
    "            for j in [(i**2 + p * i) for p in range(1, max//i)]:\n",
    "                if j >= max:\n",
    "                    break\n",
    "                premiers[j] = False       \n",
    "    return numpy.arange(max)[premiers]\n",
    "\n",
    "\n",
    "print(crible_erathostene(100))\n"
   ]
  },
  {
   "cell_type": "markdown",
   "metadata": {},
   "source": [
    "Write a program that evaluates arithmetic expressions written in Reversed Polish Notation (https://en.wikipedia.org/wiki/Reverse_Polish_notation). For example the string '3 4 5 * +' would evaluate to 23.\n"
   ]
  },
  {
   "cell_type": "code",
   "execution_count": 10,
   "metadata": {},
   "outputs": [
    {
     "name": "stdout",
     "output_type": "stream",
     "text": [
      "\n",
      "Enter an expression in RPN (or just \"Enter\" to quit) > 2 3 4 + *\n",
      "14.0\n",
      "\n",
      "Enter an expression in RPN (or just \"Enter\" to quit) > \n"
     ]
    }
   ],
   "source": [
    "import math\n",
    "\n",
    "stack = []\n",
    "\n",
    "def isfloat(string):\n",
    "    \"\"\" check if string can be converted into a float; returns True or False \"\"\"\n",
    "    try:\n",
    "        float(string)\n",
    "        return True\n",
    "    except ValueError:\n",
    "        return False\n",
    "    \n",
    "\n",
    "def rpn_eval(expr):\n",
    "    global stack\n",
    "    lexpr = expr.split()\n",
    "    for token in lexpr:\n",
    "        if isfloat(token):\n",
    "            stack.append(float(token))\n",
    "        elif token == 'pi':\n",
    "            stack.append(math.pi)\n",
    "        elif token == 'e':\n",
    "            stack.append(math.e)\n",
    "        elif token ==  '+':\n",
    "            val1 = stack.pop()\n",
    "            val2 = stack.pop()\n",
    "            stack.append(val1 + val2)\n",
    "        elif token ==  '-':\n",
    "            val1 = stack.pop()\n",
    "            val2 = stack.pop()\n",
    "            stack.append(val2 - val1)\n",
    "        elif token ==  '*':\n",
    "            val1 = stack.pop()\n",
    "            val2 = stack.pop()\n",
    "            stack.append(val1 * val2)\n",
    "        elif token ==  '/':\n",
    "            val1 = stack.pop()\n",
    "            val2 = stack.pop()\n",
    "            stack.append(val2 / val1)\n",
    "        elif token == '**':\n",
    "            val1 = stack.pop()\n",
    "            val2 = stack.pop()\n",
    "            stack.append(val1 ** val2)\n",
    "        elif token == '1/':\n",
    "            val1 = stack.pop()\n",
    "            stack.append(1 / val1)\n",
    "        elif token == 'sum':\n",
    "            stack = [sum(stack)]\n",
    "        elif token == 'clr':\n",
    "            stack = []\n",
    "        elif token == 'dup':\n",
    "            val = stack.pop()\n",
    "            stack.extend([val, val])\n",
    "        elif token == 'swap':\n",
    "            val1 = stack.pop()\n",
    "            val2 = stack.pop()\n",
    "            stack.extend([val1, val2])\n",
    "        else:\n",
    "            print(\"Unknown command : \" + token)\n",
    "\n",
    "\n",
    "while True:\n",
    "    expr = input('\\nEnter an expression in RPN (or just \"Enter\" to quit) > ')\n",
    "    if expr == '':\n",
    "        break\n",
    "    rpn_eval(expr)\n",
    "    for i in stack[::-1]:\n",
    "        print(i, end='\\n')\n",
    "    \n"
   ]
  },
  {
   "cell_type": "markdown",
   "metadata": {},
   "source": [
    "# Level 3"
   ]
  },
  {
   "cell_type": "markdown",
   "metadata": {},
   "source": [
    "Write a function that computes the number of occurrences of each word type in a text. First, consider that tokens are anything separated by whitespaces. In a second step, improve you function to clean the punctuations, ignore case changes, etc...\n"
   ]
  },
  {
   "cell_type": "code",
   "execution_count": null,
   "metadata": {
    "collapsed": true
   },
   "outputs": [],
   "source": [
    "import operator  # to sort the dictionary 'count'\n",
    "import sys\n",
    "import string\n",
    "\n",
    "# filename = sys.argv[1]  # reads the filename as a command line argument\n",
    "filename = 'alice.txt'\n",
    "\n",
    "f = open(filename, 'r')\n",
    "\n",
    "text = f.read()\n",
    "\n",
    "translator = str.maketrans('', '', string.punctuation)\n",
    "text = text.translate(translator)  # suppress punctuation signs\n",
    "\n",
    "words = text.split()\n",
    "\n",
    "counts = {}\n",
    "\n",
    "for w in words:\n",
    "    if w.lower() in counts.keys():\n",
    "         counts[w.lower()] += 1\n",
    "    else:\n",
    "         counts[w.lower()] = 1\n",
    "\n",
    "\n",
    "# black magic follows:\n",
    "sorted_counts = sorted(counts.items(), key=operator.itemgetter(1), reverse=True)\n",
    "for w, n in sorted_counts:\n",
    "    if n < 10:\n",
    "        break\n",
    "    print(\"%20s : %5d\" % (w, n)) "
   ]
  },
  {
   "cell_type": "markdown",
   "metadata": {},
   "source": [
    "Write a function that reads a csv file `test.csv`containing two columns with numbers and report the averages of each columns. \n"
   ]
  },
  {
   "cell_type": "code",
   "execution_count": null,
   "metadata": {
    "collapsed": true
   },
   "outputs": [],
   "source": [
    "import csv\n",
    "\n",
    "col1, col2, n = 0.0, 0.0, 0\n",
    "for row in csv.reader(open('test.csv', 'r')):\n",
    "    col1 += float(row[0])\n",
    "    col2 += float(row[1])\n",
    "    n += 1\n",
    "\n",
    "print(col1 / n, col2 / n)\n"
   ]
  },
  {
   "cell_type": "markdown",
   "metadata": {},
   "source": [
    "Write a simulator of a _Rodrego Register Machine_ (https://sites.tufts.edu/rodrego/). The input is a list of instructions (no need for line numbers).\n"
   ]
  },
  {
   "cell_type": "code",
   "execution_count": null,
   "metadata": {
    "collapsed": true
   },
   "outputs": [],
   "source": [
    "program = \"\"\"\n",
    "deb 2 2 3\n",
    "inc 1 1\n",
    "end\n",
    "\"\"\"\n",
    "\n",
    "\n",
    "DEBUG = True\n",
    " \n",
    "prg = [l.split() for l in program.splitlines()]\n",
    "registers = [0 for _ in range(11)]\n",
    "\n",
    "registers[0] = 5\n",
    "registers[1] = 4\n",
    "\n",
    "IP = 1  # interpretative pointer\n",
    "while True:\n",
    "    assert IP < len(prg)\n",
    "\n",
    "    if DEBUG:\n",
    "        print('IP = ' + str(IP))\n",
    "        print(prg[IP])\n",
    "        print(registers)\n",
    "\n",
    "    instruc = prg[IP][0]\n",
    "\n",
    "    if instruc == 'end':\n",
    "        break\n",
    "\n",
    "    reg = int(prg[IP][1]) - 1\n",
    "\n",
    "    if instruc == 'inc':\n",
    "        registers[reg] += 1\n",
    "        IP = int(prg[IP][2])\n",
    "\n",
    "    elif instruc == 'deb':\n",
    "        if registers[reg] > 0:\n",
    "            registers[reg] -= 1\n",
    "            IP = int(prg[IP][2])\n",
    "        else:\n",
    "            IP = int(prg[IP][3])\n",
    "    else:\n",
    "        print('unknown command: ' + instruc + ' on line ' + str(IP + 1))\n",
    "        break\n"
   ]
  },
  {
   "cell_type": "markdown",
   "metadata": {},
   "source": [
    "Write a program implementing a psychological experiment --- the Simon task (https://www.researchgate.net/figure/266736582_fig6_Figure-2-Trial-structure-and-stimuli-A-four-alternative-Simon-task-in-which-two-colors).  The exeriment is a succession of trials where either a green or a red disk is displayed. The user must press a left button for green disk, and a right button for red disk. Their reaction time is measures, in milliseconds. The trick is that the disks appear either at the left or at the right of a central fixation point. Althought location is irrelevant to perform the task, one typically observed an increase in reaction times when the side of display and the side of response are incongruent. To program this experiment, you should use the `expyriment` module.\n"
   ]
  },
  {
   "cell_type": "code",
   "execution_count": null,
   "metadata": {
    "collapsed": true
   },
   "outputs": [],
   "source": [
    "#! /usr/bin/env python\n",
    "# must be run from the command line\n",
    "\n",
    "instructions = \"\"\"\n",
    "Green and red disks will be displayed. Please press 'f' for green ones, 'j' for 'red'  ones.  Please respond as quickly as possible.\n",
    "\n",
    "(You can interrupt the experiment at any time by pressing 'ESC')\n",
    "\n",
    "...Press the space bar to start...\n",
    "\"\"\"\n",
    "\n",
    "from expyriment import control, stimuli, design, misc\n",
    "\n",
    "colors = {'red':(255, 0, 0), 'green':(0, 255, 0)}\n",
    "positions = {'left':(-200, 0), 'right':(200, 0)}\n",
    "trials = [('left', 'red'), ('left', 'green'), ('right', 'red'), ('right', 'green')] * 10\n",
    "design.randomize.shuffle_list(trials)\n",
    "\n",
    "exp = control.initialize()\n",
    "exp.data_variable_names = [\"side\", \"color\", \"btn\", \"rt\", \"error\"]\n",
    "\n",
    "control.start(exp, skip_ready_screen=True)\n",
    "stimuli.TextScreen(\"Simon task\", instructions).present()\n",
    "exp.keyboard.wait(misc.constants.K_SPACE)\n",
    "exp.clock.wait(1000)\n",
    "\n",
    "for trial in trials:\n",
    "    target = stimuli.Circle(30, colour=colors[trial[1]], position=positions[trial[0]])\n",
    "    exp.clock.wait(500 - stimuli.FixCross().present() - target.preload())\n",
    "    target.present()\n",
    "    button, rt = exp.keyboard.wait([misc.constants.K_f, misc.constants.K_j])\n",
    "    error = ((button == misc.constants.K_f) & (trial[1] == 'red')) | \\\n",
    "            ((button == misc.constants.K_j) & (trial[1] == 'green'))\n",
    "    if error: stimuli.Tone(duration=200, frequency=2000).play()\n",
    "    exp.data.add([trial[0], trial[1], button, rt, int(error)])\n",
    "    exp.clock.wait(1000 - stimuli.BlankScreen().present() - target.unload())\n",
    "\n",
    "control.end(goodbye_text=\"Thank you very much...\", goodbye_delay=2000)\n"
   ]
  }
 ],
 "metadata": {
  "anaconda-cloud": {},
  "kernelspec": {
   "display_name": "Python [conda root]",
   "language": "python",
   "name": "conda-root-py"
  },
  "language_info": {
   "codemirror_mode": {
    "name": "ipython",
    "version": 3
   },
   "file_extension": ".py",
   "mimetype": "text/x-python",
   "name": "python",
   "nbconvert_exporter": "python",
   "pygments_lexer": "ipython3",
   "version": "3.6.1"
  }
 },
 "nbformat": 4,
 "nbformat_minor": 2
}
