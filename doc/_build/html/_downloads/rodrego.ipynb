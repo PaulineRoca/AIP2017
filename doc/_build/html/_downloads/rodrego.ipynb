{
  "cells": [
    {
      "cell_type": "code",
      "execution_count": null,
      "metadata": {
        "collapsed": false
      },
      "outputs": [],
      "source": [
        "%matplotlib inline"
      ]
    },
    {
      "cell_type": "markdown",
      "metadata": {},
      "source": [
        "\n    Interpreter of the RodRego register machine.\n\n    Interpreter of the RodRego register machine.\n\n\n"
      ]
    },
    {
      "cell_type": "code",
      "execution_count": null,
      "metadata": {
        "collapsed": false
      },
      "outputs": [],
      "source": [
        "program = \"\"\"\ndeb 2 2 3\ninc 1 1\nend\n\"\"\"\n\n\nDEBUG = True\n \nprg = [l.split() for l in program.splitlines()]\nregisters = [0 for _ in range(11)]\n\nregisters[0] = 5\nregisters[1] = 4\n\nIP = 1  # interpretative pointer\nwhile True:\n    assert IP < len(prg)\n\n    if DEBUG:\n        print('IP = ' + str(IP))\n        print(prg[IP])\n        print(registers)\n\n    instruc = prg[IP][0]\n\n    if instruc == 'end':\n        break\n\n    reg = int(prg[IP][1]) - 1\n\n    if instruc == 'inc':\n        registers[reg] += 1\n        IP = int(prg[IP][2])\n\n    elif instruc == 'deb':\n        if registers[reg] > 0:\n            registers[reg] -= 1\n            IP = int(prg[IP][2])\n        else:\n            IP = int(prg[IP][3])\n    else:\n        print('unknown command: ' + instruc + ' on line ' + str(IP + 1))\n        break"
      ]
    }
  ],
  "metadata": {
    "kernelspec": {
      "display_name": "Python 3",
      "language": "python",
      "name": "python3"
    },
    "language_info": {
      "codemirror_mode": {
        "name": "ipython",
        "version": 3
      },
      "file_extension": ".py",
      "mimetype": "text/x-python",
      "name": "python",
      "nbconvert_exporter": "python",
      "pygments_lexer": "ipython3",
      "version": "3.6.1"
    }
  },
  "nbformat": 4,
  "nbformat_minor": 0
}