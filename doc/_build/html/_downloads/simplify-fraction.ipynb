{
  "cells": [
    {
      "cell_type": "code",
      "execution_count": null,
      "metadata": {
        "collapsed": false
      },
      "outputs": [],
      "source": [
        "%matplotlib inline"
      ]
    },
    {
      "cell_type": "markdown",
      "metadata": {},
      "source": [
        " \nSimplification of fractions. \n\nSimplification of fractions. \n\n"
      ]
    },
    {
      "cell_type": "code",
      "execution_count": null,
      "metadata": {
        "collapsed": false
      },
      "outputs": [],
      "source": [
        "# Read the fraction\n\na = int(input(\"numerator? \"))\nb = int(input(\"denominator? \"))\n\n# A first solution is to divide the numerator and denominator by their gcd \n\nfrom math import gcd\n\nc = gcd(a, b)\nprint(\"{}/{}\".format(a // c, b // c))\n\n# A second solution relies on the existence of the *fractions* module\n\nfrom fractions import Fraction\n\nd = Fraction(a, b)\nprint(d)"
      ]
    }
  ],
  "metadata": {
    "kernelspec": {
      "display_name": "Python 3",
      "language": "python",
      "name": "python3"
    },
    "language_info": {
      "codemirror_mode": {
        "name": "ipython",
        "version": 3
      },
      "file_extension": ".py",
      "mimetype": "text/x-python",
      "name": "python",
      "nbconvert_exporter": "python",
      "pygments_lexer": "ipython3",
      "version": "3.6.1"
    }
  },
  "nbformat": 4,
  "nbformat_minor": 0
}