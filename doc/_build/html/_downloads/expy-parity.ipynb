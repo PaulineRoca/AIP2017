{
  "cells": [
    {
      "cell_type": "code",
      "execution_count": null,
      "metadata": {
        "collapsed": false
      },
      "outputs": [],
      "source": [
        "%matplotlib inline"
      ]
    },
    {
      "cell_type": "markdown",
      "metadata": {},
      "source": [
        "\nA very short example experiment in 16 lines of pure code.\nParticipants have to indicate the parity of digits by pressing \nthe left arrow key for odd and the right arrow key for even numbers.\n\n"
      ]
    },
    {
      "cell_type": "code",
      "execution_count": null,
      "metadata": {
        "collapsed": false
      },
      "outputs": [],
      "source": [
        "from expyriment import control, stimuli, design, misc\n\ndigit_list = [1, 2, 3, 4, 6, 7, 8, 9] * 12\ndesign.randomize.shuffle_list(digit_list)\n\nexp = control.initialize()\nexp.data_variable_names = [\"digit\", \"btn\", \"rt\", \"error\"]\n\ncontrol.start(exp)\n\nfor digit in digit_list:\n    target = stimuli.TextLine(text=str(digit), text_size=80)\n    exp.clock.wait(500 - stimuli.FixCross().present() - target.preload())\n    target.present()\n    button, rt = exp.keyboard.wait([misc.constants.K_LEFT, misc.constants.K_RIGHT])\n    error = (button == misc.constants.K_LEFT) == digit%2\n    if error: stimuli.Tone(duration=200, frequency=2000).play()\n    exp.data.add([digit, button, rt, int(error)])\n    exp.clock.wait(1000 - stimuli.BlankScreen().present() - target.unload())\n\ncontrol.end(goodbye_text=\"Thank you very much...\", goodbye_delay=2000)"
      ]
    }
  ],
  "metadata": {
    "kernelspec": {
      "display_name": "Python 3",
      "language": "python",
      "name": "python3"
    },
    "language_info": {
      "codemirror_mode": {
        "name": "ipython",
        "version": 3
      },
      "file_extension": ".py",
      "mimetype": "text/x-python",
      "name": "python",
      "nbconvert_exporter": "python",
      "pygments_lexer": "ipython3",
      "version": "3.6.1"
    }
  },
  "nbformat": 4,
  "nbformat_minor": 0
}