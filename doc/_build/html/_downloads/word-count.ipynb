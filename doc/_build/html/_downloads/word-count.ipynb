{
  "cells": [
    {
      "cell_type": "code",
      "execution_count": null,
      "metadata": {
        "collapsed": false
      },
      "outputs": [],
      "source": [
        "%matplotlib inline"
      ]
    },
    {
      "cell_type": "markdown",
      "metadata": {},
      "source": [
        "\n    Count the number of occurrences of words in a text file\n\n   Count the number of occurrences of words in a text file\n\n\n"
      ]
    },
    {
      "cell_type": "code",
      "execution_count": null,
      "metadata": {
        "collapsed": false
      },
      "outputs": [],
      "source": [
        "import operator  # to sort the dictionary 'count'\nimport sys\nimport string\n\nfilename = sys.argv[1]  # reads the filename as a command line argument\n\nf = open(filename, 'r')\n\ntext = f.read()\n\ntranslator = str.maketrans('', '', string.punctuation)\ntext = text.translate(translator)  # suppress punctuation signs\n\nwords = text.split()\n\ncounts = {}\n\nfor w in words:\n    if w.lower() in counts.keys():\n         counts[w.lower()] += 1\n    else:\n         counts[w.lower()] = 1\n\n\n# black magic follows:\nsorted_counts = sorted(counts.items(), key=operator.itemgetter(1), reverse=True)\nfor w, n in sorted_counts:\n    if n < 10:\n        break\n    print(\"%20s : %5d\" % (w, n))"
      ]
    }
  ],
  "metadata": {
    "kernelspec": {
      "display_name": "Python 3",
      "language": "python",
      "name": "python3"
    },
    "language_info": {
      "codemirror_mode": {
        "name": "ipython",
        "version": 3
      },
      "file_extension": ".py",
      "mimetype": "text/x-python",
      "name": "python",
      "nbconvert_exporter": "python",
      "pygments_lexer": "ipython3",
      "version": "3.6.1"
    }
  },
  "nbformat": 4,
  "nbformat_minor": 0
}