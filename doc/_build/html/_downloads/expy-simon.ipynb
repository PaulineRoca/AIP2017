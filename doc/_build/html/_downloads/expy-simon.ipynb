{
  "cells": [
    {
      "cell_type": "code",
      "execution_count": null,
      "metadata": {
        "collapsed": false
      },
      "outputs": [],
      "source": [
        "%matplotlib inline"
      ]
    },
    {
      "cell_type": "markdown",
      "metadata": {},
      "source": [
        "\n    Implementation of the psychological task \"Simon\". \n\n    Green and red disks are displayed and the subject must press as quickly as possible 'f' for green ones and 'j' for 'red'  ones.\n\n\n"
      ]
    },
    {
      "cell_type": "code",
      "execution_count": null,
      "metadata": {
        "collapsed": false
      },
      "outputs": [],
      "source": [
        "instructions = \"\"\"\nGreen and red disks will be displayed. Please press 'f' for green ones, 'j' for 'red'  ones.  Please respond as quickly as possible.\n\n(You can interrupt the experiment at any time by pressing 'ESC')\n\n...Press the space bar to start...\n\"\"\"\n\nfrom expyriment import control, stimuli, design, misc\n\ncolors = {'red':(255, 0, 0), 'green':(0, 255, 0)}\npositions = {'left':(-200, 0), 'right':(200, 0)}\ntrials = [('left', 'red'), ('left', 'green'), ('right', 'red'), ('right', 'green')] * 10\ndesign.randomize.shuffle_list(trials)\n\nexp = control.initialize()\nexp.data_variable_names = [\"side\", \"color\", \"btn\", \"rt\", \"error\"]\n\ncontrol.start(exp, skip_ready_screen=True)\nstimuli.TextScreen(\"Simon task\", instructions).present()\nexp.keyboard.wait(misc.constants.K_SPACE)\nexp.clock.wait(1000)\n\nfor trial in trials:\n    target = stimuli.Circle(30, colour=colors[trial[1]], position=positions[trial[0]])\n    exp.clock.wait(500 - stimuli.FixCross().present() - target.preload())\n    target.present()\n    button, rt = exp.keyboard.wait([misc.constants.K_f, misc.constants.K_j])\n    error = ((button == misc.constants.K_f) & (trial[1] == 'red')) | \\\n            ((button == misc.constants.K_j) & (trial[1] == 'green'))\n    if error: stimuli.Tone(duration=200, frequency=2000).play()\n    exp.data.add([trial[0], trial[1], button, rt, int(error)])\n    exp.clock.wait(1000 - stimuli.BlankScreen().present() - target.unload())\n\ncontrol.end(goodbye_text=\"Thank you very much...\", goodbye_delay=2000)"
      ]
    }
  ],
  "metadata": {
    "kernelspec": {
      "display_name": "Python 3",
      "language": "python",
      "name": "python3"
    },
    "language_info": {
      "codemirror_mode": {
        "name": "ipython",
        "version": 3
      },
      "file_extension": ".py",
      "mimetype": "text/x-python",
      "name": "python",
      "nbconvert_exporter": "python",
      "pygments_lexer": "ipython3",
      "version": "3.6.1"
    }
  },
  "nbformat": 4,
  "nbformat_minor": 0
}