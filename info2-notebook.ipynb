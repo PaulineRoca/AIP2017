{
 "cells": [
  {
   "cell_type": "markdown",
   "metadata": {},
   "source": [
    "# Level 0"
   ]
  },
  {
   "cell_type": "markdown",
   "metadata": {},
   "source": [
    "Write code that asks for your name and greets you, e.g. if your name is ‘Chris’, it should write ‘Hello Chris’ (use Python’s functions input* and print); then modify it so that if you type ‘Satanas’, it would print ‘Vade retro Satanas!’)"
   ]
  },
  {
   "cell_type": "code",
   "execution_count": 1,
   "metadata": {},
   "outputs": [
    {
     "name": "stdout",
     "output_type": "stream",
     "text": [
      "What's your name? Chris\n",
      "Hello Chris!\n"
     ]
    }
   ],
   "source": [
    "name = input(\"What's your name? \")\n",
    "if (name.upper() == 'SATANAS'):\n",
    "    print('Vade retro Satanas!')\n",
    "else:\n",
    "    print(\"Hello \" + name + \"!\")"
   ]
  },
  {
   "cell_type": "markdown",
   "metadata": {},
   "source": [
    "write code that asks the user to type some text, and when enter is pressed, prints the number of characters (hint: use the function len)"
   ]
  },
  {
   "cell_type": "code",
   "execution_count": 2,
   "metadata": {},
   "outputs": [
    {
     "name": "stdout",
     "output_type": "stream",
     "text": [
      "Chris\n",
      "5\n"
     ]
    }
   ],
   "source": [
    "text = input()\n",
    "print(len(text))"
   ]
  },
  {
   "cell_type": "markdown",
   "metadata": {},
   "source": [
    "write code that asks the user for a price and print the price with\n",
    "33% reduction. Try to find a way to print the new price with only\n",
    "to 2 decimal places"
   ]
  },
  {
   "cell_type": "code",
   "execution_count": 3,
   "metadata": {},
   "outputs": [
    {
     "name": "stdout",
     "output_type": "stream",
     "text": [
      "price? 45.99\n",
      "30.81\n"
     ]
    }
   ],
   "source": [
    "price = float(input('price? '))\n",
    "p = price * (1 - 0.33)\n",
    "print(int(p * 100) / 100)"
   ]
  },
  {
   "cell_type": "code",
   "execution_count": 4,
   "metadata": {},
   "outputs": [
    {
     "name": "stdout",
     "output_type": "stream",
     "text": [
      "price? 45.99\n",
      "30.81\n"
     ]
    }
   ],
   "source": [
    "price = float(input('price? '))\n",
    "print( round(price * (1 - 0.33), 2) )"
   ]
  },
  {
   "cell_type": "code",
   "execution_count": 5,
   "metadata": {},
   "outputs": [
    {
     "name": "stdout",
     "output_type": "stream",
     "text": [
      "The subject is 00000001   1     2\n"
     ]
    }
   ],
   "source": [
    "print(\"The subject is {0:08d} {0:3d} {1:5d}\".format(1, 2))"
   ]
  },
  {
   "cell_type": "markdown",
   "metadata": {},
   "source": [
    "Write code that computes your income tax, obeying the following\n",
    "rules:\n",
    "\n",
    "*  All taxpayers are charged a flat tax rate of 20%.\n",
    "*  All taxpayers are allowed a 10,000 standard deduction.\n",
    "*  For each dependent, a taxpayer is allowed an additional 2000 deduction."
   ]
  },
  {
   "cell_type": "code",
   "execution_count": 6,
   "metadata": {},
   "outputs": [
    {
     "name": "stdout",
     "output_type": "stream",
     "text": [
      "Your income? 100000\n",
      "Number of dependent? 3\n",
      "You have 24h to pay16800.0\n"
     ]
    }
   ],
   "source": [
    "revenu = int(input('Your income? '))\n",
    "n = int(input('Number of dependent? '))\n",
    "impot = (revenu - 10000 - n * 2000) * 0.20\n",
    "if impot <= 0:\n",
    "    print('Lucky you!')\n",
    "else:\n",
    "    print('You have 24h to pay' + str(impot))"
   ]
  },
  {
   "cell_type": "markdown",
   "metadata": {},
   "source": [
    "Write code that repeatedly asks for number and prints whether\n",
    "there are odd or even (the modulo operator is\n",
    "%\n",
    "). The loop should\n",
    "stop when the user enters ‘\n",
    "0\n",
    "’."
   ]
  },
  {
   "cell_type": "code",
   "execution_count": 7,
   "metadata": {},
   "outputs": [
    {
     "name": "stdout",
     "output_type": "stream",
     "text": [
      "? 3\n",
      "impair\n",
      "? 0\n",
      "pair\n"
     ]
    }
   ],
   "source": [
    "OK = True\n",
    "while OK:\n",
    "    num = int(input(\"? \"))\n",
    "    if num == 0:\n",
    "        OK = False\n",
    "    if (num % 2) == 0:\n",
    "        print('pair')\n",
    "    else:\n",
    "        print('impair')\n",
    "    \n",
    "\n",
    "            "
   ]
  },
  {
   "cell_type": "markdown",
   "metadata": {
    "collapsed": true
   },
   "source": [
    "Write code that computes the sum of the first 1000 integers (tip: use a `while` loop)."
   ]
  },
  {
   "cell_type": "code",
   "execution_count": null,
   "metadata": {
    "collapsed": true
   },
   "outputs": [],
   "source": [
    "n = 1000\n",
    "print(n * (n + 1) / 2)"
   ]
  },
  {
   "cell_type": "code",
   "execution_count": null,
   "metadata": {
    "collapsed": true
   },
   "outputs": [],
   "source": [
    "somme = 0\n",
    "i = 1\n",
    "while (i <= 1000):\n",
    "    somme = somme + i\n",
    "    i = i + 1\n",
    "print(somme)"
   ]
  },
  {
   "cell_type": "code",
   "execution_count": null,
   "metadata": {
    "collapsed": true
   },
   "outputs": [],
   "source": [
    "somme = 0\n",
    "for i in range(1, 1001):\n",
    "    somme = somme + i\n",
    "print(somme)"
   ]
  },
  {
   "cell_type": "code",
   "execution_count": null,
   "metadata": {
    "collapsed": true
   },
   "outputs": [],
   "source": [
    "sum(range(1001))"
   ]
  },
  {
   "cell_type": "markdown",
   "metadata": {},
   "source": [
    "The following program draws a triangle. Modify it to draw a square, then any regular polygon with 'n' sides.\n",
    "\n",
    "    ```{python}\n",
    "    import turtle\n",
    "\ttt = turtle.Turtle()\n",
    "\ttt.pendown()\n",
    "\ttt.forward(100)\n",
    "\ttt.left(120)\n",
    "\ttt.forward(100)\n",
    "\ttt.left(120)\n",
    "\ttt.forward(100)\n",
    "    ```"
   ]
  },
  {
   "cell_type": "code",
   "execution_count": null,
   "metadata": {
    "collapsed": true
   },
   "outputs": [],
   "source": [
    "import turtle\n",
    "\n",
    "tt = turtle.Turtle()\n",
    "tt.pendown()\n",
    "\n",
    "n = 5\n",
    "angle = 360 / n\n",
    "for i in range(n + 1):\n",
    "    tt.forward(100)\n",
    "    tt.left(angle)\n",
    "\n",
    "\n"
   ]
  },
  {
   "cell_type": "markdown",
   "metadata": {},
   "source": [
    "Write code that prints the first elements of the Fibonnaci series (u(0)=0; u(1)=1; u(n+2)=u(n+1)+u(n)) which are lower than 1.000.000.000"
   ]
  },
  {
   "cell_type": "code",
   "execution_count": null,
   "metadata": {
    "collapsed": true,
    "scrolled": true
   },
   "outputs": [],
   "source": [
    "x, y = 0, 1\n",
    "while x < 1000000000:\n",
    "    y, x =  x + y, y\n",
    "    print(x)"
   ]
  },
  {
   "cell_type": "markdown",
   "metadata": {},
   "source": [
    "Write a program that estimates the number PI/4 by drawing pairs of random numbers between 0 and 1 (`x, y = random.random(), random.random()`)and computes how many of them represent points within the unit circle (`x**2 + y**2 <= 1`)."
   ]
  },
  {
   "cell_type": "code",
   "execution_count": null,
   "metadata": {
    "collapsed": true
   },
   "outputs": [],
   "source": [
    "from random import random\n",
    "N=1000000\n",
    "4 * (sum([(random()**2 + random()**2)<1 for _ in range(N)])/N)"
   ]
  },
  {
   "cell_type": "markdown",
   "metadata": {},
   "source": [
    "Given a binary number represented as a string of 0s ans 1s (e.g. ‘101’), compute its value and print it."
   ]
  },
  {
   "cell_type": "code",
   "execution_count": null,
   "metadata": {
    "collapsed": true
   },
   "outputs": [],
   "source": [
    "bin = '100000000'\n",
    "n = len(bin)\n",
    "pos = 0\n",
    "somme = 0\n",
    "while n > 0:\n",
    "    somme = somme + int(bin[pos])* (2 ** (n-1))\n",
    "    pos = pos + 1\n",
    "    n = n - 1\n",
    "print(somme)"
   ]
  },
  {
   "cell_type": "code",
   "execution_count": null,
   "metadata": {
    "collapsed": true
   },
   "outputs": [],
   "source": [
    "bin = '1010'\n",
    "base = 2\n",
    "sum = 0\n",
    "for c in bin:\n",
    "    sum = sum * base + int(c)\n",
    "print(sum)\n"
   ]
  },
  {
   "cell_type": "markdown",
   "metadata": {},
   "source": [
    "Given an integer number, convert it into its binary representation, as a string of 0s and 1s."
   ]
  },
  {
   "cell_type": "code",
   "execution_count": null,
   "metadata": {
    "collapsed": true
   },
   "outputs": [],
   "source": [
    "num = 10\n",
    "\n",
    "sortie = ''\n",
    "while num > 0:\n",
    "    sortie = str(num % 2) + sortie\n",
    "    num = num // 2\n",
    "\n",
    "print(sortie)\n"
   ]
  },
  {
   "cell_type": "markdown",
   "metadata": {},
   "source": [
    "# Level 1"
   ]
  },
  {
   "cell_type": "markdown",
   "metadata": {},
   "source": [
    "Write a function that, given `r`, returns the volume of a sphere of radius 'r' (which is equal to 4/3 pi r^3)."
   ]
  },
  {
   "cell_type": "code",
   "execution_count": null,
   "metadata": {
    "collapsed": true
   },
   "outputs": [],
   "source": [
    "from math import pi\n",
    "\n",
    "def volume_sphere(radius):\n",
    "    return (4 / 3) * pi * (radius ** 3)\n",
    "\n",
    "print(volume_sphere(1))"
   ]
  },
  {
   "cell_type": "markdown",
   "metadata": {},
   "source": [
    "Write a function that computes the factorial of an integer number (`factorial(n) = n(n-1)(n-2)...x 2 x 1`)"
   ]
  },
  {
   "cell_type": "code",
   "execution_count": 11,
   "metadata": {},
   "outputs": [
    {
     "name": "stdout",
     "output_type": "stream",
     "text": [
      "120\n",
      "120\n",
      "120\n",
      "120\n"
     ]
    }
   ],
   "source": [
    "def fact1(n):\n",
    "    f = 1\n",
    "    while n > 1:\n",
    "        f = f * n\n",
    "        n = n - 1\n",
    "    return f\n",
    "\n",
    "def fact2(n):\n",
    "    f = 1\n",
    "    for i in range(1, n + 1):\n",
    "        f = f * i\n",
    "    return f\n",
    "\n",
    "import math\n",
    "def fact3(n):\n",
    "    return math.factorial(n)\n",
    "\n",
    "def fact4(n):\n",
    "    if n == 0:\n",
    "        return 1\n",
    "    return n * fact4(n - 1)\n",
    "\n",
    "print(fact1(5))\n",
    "print(fact2(5))\n",
    "print(fact3(5))\n",
    "print(fact4(5))"
   ]
  },
  {
   "cell_type": "markdown",
   "metadata": {},
   "source": [
    " Write a program which draws von Koch fractal (https://en.wikipedia.org/wiki/Koch_snowflake)."
   ]
  },
  {
   "cell_type": "code",
   "execution_count": null,
   "metadata": {
    "collapsed": true
   },
   "outputs": [],
   "source": [
    "from time import sleep\n",
    "from turtle import clear, speed, forward, left, right\n",
    "\n",
    "def koch(n , length):\n",
    "    if n == 0:\n",
    "        forward(length)\n",
    "    else:\n",
    "        koch(n - 1, length / 3)\n",
    "        left(60)\n",
    "        koch(n - 1, length / 3)\n",
    "        right(120)\n",
    "        koch(n - 1, length / 3)\n",
    "        left(60)\n",
    "        koch(n - 1, length / 3)\n",
    "\n",
    "\n",
    "# speed(2)\n",
    "\n",
    "koch(3, 300)\n",
    "sleep(5)\n",
    "turtle.done()"
   ]
  },
  {
   "cell_type": "markdown",
   "metadata": {},
   "source": [
    "Compute the sum of the elements in a list"
   ]
  },
  {
   "cell_type": "code",
   "execution_count": 7,
   "metadata": {},
   "outputs": [
    {
     "name": "stdout",
     "output_type": "stream",
     "text": [
      "45\n",
      "45\n"
     ]
    },
    {
     "data": {
      "text/plain": [
       "[(0, 1), (1, 4), (2, 10), (3, 34), (4, 2), (5, -6)]"
      ]
     },
     "execution_count": 7,
     "metadata": {},
     "output_type": "execute_result"
    }
   ],
   "source": [
    "liste = [1, 4, 10, 34, 2, -6]\n",
    "\n",
    "# solution 1 (non pythonic)\n",
    "somme = 0\n",
    "for indice in range(len(liste)):\n",
    "    somme = somme + liste[indice]\n",
    "print(somme)\n",
    "\n",
    "# niceway\n",
    "somme = 0\n",
    "for element in liste:\n",
    "    somme = somme + element\n",
    "print(somme)\n",
    "\n",
    "\n",
    "# terrible way, but demonstrating enumerate\n",
    "[(x , y) for (x, y) in enumerate(liste)]\n",
    "\n",
    "somme = 0\n",
    "for i, element in enumerate(liste):\n",
    "    somme = somme + liste[i]\n",
    "    \n",
    "print(somme)\n",
    "\n",
    "\n"
   ]
  },
  {
   "cell_type": "code",
   "execution_count": 2,
   "metadata": {},
   "outputs": [
    {
     "name": "stdout",
     "output_type": "stream",
     "text": [
      "[9, 7, 5]\n"
     ]
    }
   ],
   "source": [
    "liste1 = [3, 4, 5]\n",
    "liste2 = [6, 3, 0]\n",
    "\n",
    "somme = [0]*len(liste1)\n",
    "for n, x in enumerate(zip(liste1, liste2)):\n",
    "    somme[n] = x[0] + x[1] \n",
    "    #    somme.append(i + j)\n",
    "    \n",
    "print(somme)"
   ]
  },
  {
   "cell_type": "code",
   "execution_count": 3,
   "metadata": {},
   "outputs": [
    {
     "data": {
      "text/plain": [
       "[(0, (3, 6)), (1, (4, 3)), (2, (5, 0))]"
      ]
     },
     "execution_count": 3,
     "metadata": {},
     "output_type": "execute_result"
    }
   ],
   "source": [
    "list(enumerate(zip(liste1, liste2)))"
   ]
  }
 ],
 "metadata": {
  "anaconda-cloud": {},
  "kernelspec": {
   "display_name": "Python [conda root]",
   "language": "python",
   "name": "conda-root-py"
  },
  "language_info": {
   "codemirror_mode": {
    "name": "ipython",
    "version": 3
   },
   "file_extension": ".py",
   "mimetype": "text/x-python",
   "name": "python",
   "nbconvert_exporter": "python",
   "pygments_lexer": "ipython3",
   "version": "3.6.1"
  }
 },
 "nbformat": 4,
 "nbformat_minor": 2
}
