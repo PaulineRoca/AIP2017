{
  "cells": [
    {
      "cell_type": "code",
      "execution_count": null,
      "metadata": {
        "collapsed": false
      },
      "outputs": [],
      "source": [
        "%matplotlib inline"
      ]
    },
    {
      "cell_type": "markdown",
      "metadata": {},
      "source": [
        " \nImplementing a Wolfram style Cellular automaton.\n\ncode from http://code.activestate.com/recipes/343386-wolfram-style-cellular-automata/\n\n"
      ]
    },
    {
      "cell_type": "code",
      "execution_count": null,
      "metadata": {
        "collapsed": false
      },
      "outputs": [],
      "source": [
        "import getopt,sys\nfrom random import randint\n\ndef ca_data(height, width, dorandom, rulenum):\n    # Create the first row, either randomly, or with a single 1\n    if dorandom:\n        first_row = [ random.choice(range(2)) for _ in range(width)]\n    else:\n        first_row = [0] * width\n        first_row[width // 2] = 1\n    results = [first_row]\n\n    # Convert the rule number to a list of outcomes (convert to bin)\n    rule = [(rulenum//pow(2,i)) % 2 for i in range(8)]\n\n    for i in range(height-1):\n        data = results[-1]\n        # Determine the new row based on the old data. We first make an\n        #  integer out of the value of the old row and its two neighbors\n        #  and then use that value to get the outcome from the table we\n        #  computed earlier\n        new = [rule[4*data[(j-1)%width]+2*data[j]+data[(j+1)%width]]\n               for j in range(width)]\n        results.append(new)\n    return results\n\ndef pil_render(data,height,width,fname=\"bs.png\"):\n    import Image, ImageDraw\n    img = Image.new(\"RGB\",(width,height),(255,255,255))\n    draw = ImageDraw.Draw(img)\n\n    for y in range(height):\n        for x in range(width):\n            if data[y][x]: draw.point((x,y),(0,0,0))\n    img.save(fname,\"PNG\")\n    return\n\ndef main():\n    opts,args = getopt.getopt(sys.argv[1:],'h:w:rR:')\n    height = 500\n    width = 500\n    dorandom = 0\n    rule = 22\n    for key,val in opts:\n        if key == '-h': height = int(val)\n        if key == '-w': width = int(val)\n        if key == '-r': dorandom = 1\n        if key == '-R': rule = int(val)\n    data = ca_data(height, width, dorandom, rule)\n    pil_render(data, height, width)\n    return\n\nif __name__ == '__main__': main()"
      ]
    }
  ],
  "metadata": {
    "kernelspec": {
      "display_name": "Python 3",
      "language": "python",
      "name": "python3"
    },
    "language_info": {
      "codemirror_mode": {
        "name": "ipython",
        "version": 3
      },
      "file_extension": ".py",
      "mimetype": "text/x-python",
      "name": "python",
      "nbconvert_exporter": "python",
      "pygments_lexer": "ipython3",
      "version": "3.6.1"
    }
  },
  "nbformat": 4,
  "nbformat_minor": 0
}